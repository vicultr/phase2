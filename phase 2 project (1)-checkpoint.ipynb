{
 "cells": [
  {
   "cell_type": "markdown",
   "metadata": {},
   "source": [
    "## Strategies for Creating Successful and Profitable Movies for a New Studio\n",
    "\n",
    "#### GROUP 2 MEMBERS\n",
    "Calvince Kaunda \n",
    "\n",
    "Dennis Mwania\n",
    "\n",
    "Kavata Musyoka\n",
    "\n",
    "Tabby Mirara\n",
    "\n",
    "Victor Musyoki\n"
   ]
  },
  {
   "cell_type": "markdown",
   "metadata": {},
   "source": [
    "### Overview\n",
    "\n",
    "In this project we will analyse recent box office data to find out which types of movies are most popular and profitable.We will look at movie genres,  preferences and release date. Based on this information we will recommend the best type of movies our studio should focus on to make an impactful start and long-term profits."
   ]
  },
  {
   "cell_type": "markdown",
   "metadata": {},
   "source": [
    "### Business Understanding\n",
    "The main goal is to understand what type of movie are making the most money so our new studio can be successful. This involves finding out ;\n",
    "\n",
    "1.Which genres are performing well at the box office.\n",
    "\n",
    "2.What is the financial success of different films.\n",
    "\n",
    "3.What is the critical reception and rating of different genres.\n",
    "\n",
    "4.When do movie release perform best.\n",
    "\n",
    "By using this information, the studio can make smarter decisions and create films that attract large audience and generate long-term profits.\n"
   ]
  },
  {
   "cell_type": "markdown",
   "metadata": {},
   "source": [
    "### Data Understanding\n",
    "We will obtain our data fromthe following sources\n",
    "\n",
    "**Box Office Mojo**- contains a comprehensive box office revenue data.\n",
    "\n",
    "**IMDB** - contains a rich source of movie ratings genres and other detailed movie information.\n",
    "\n",
    "**Rotten Tomatoes**- this offers crictical and audience reviews and ratings.\n",
    "\n",
    "**TheMovieDB**- contains detailed movie information,including genres rating, and runtime.\n",
    "\n",
    "**The Numbers**- has the financial data on movie budget and the grosses."
   ]
  },
  {
   "cell_type": "markdown",
   "metadata": {},
   "source": [
    "The codes are shown below "
   ]
  },
  {
   "cell_type": "code",
   "execution_count": 21,
   "metadata": {},
   "outputs": [],
   "source": [
    "# Your code here - remember to use markdown cells for comments as well!\n",
    "import pandas as pd\n",
    "import sqlite3\n",
    "import numpy as np\n",
    "\n",
    "import matplotlib.pyplot as plt\n",
    "%matplotlib inline\n",
    "\n",
    "import seaborn as sns\n"
   ]
  },
  {
   "cell_type": "code",
   "execution_count": 22,
   "metadata": {},
   "outputs": [],
   "source": [
    "#connect to the database\n",
    "conn = sqlite3.connect('im.db')\n",
    "cursor = conn.cursor()"
   ]
  },
  {
   "cell_type": "code",
   "execution_count": 23,
   "metadata": {},
   "outputs": [
    {
     "data": {
      "text/html": [
       "<div>\n",
       "<style scoped>\n",
       "    .dataframe tbody tr th:only-of-type {\n",
       "        vertical-align: middle;\n",
       "    }\n",
       "\n",
       "    .dataframe tbody tr th {\n",
       "        vertical-align: top;\n",
       "    }\n",
       "\n",
       "    .dataframe thead th {\n",
       "        text-align: right;\n",
       "    }\n",
       "</style>\n",
       "<table border=\"1\" class=\"dataframe\">\n",
       "  <thead>\n",
       "    <tr style=\"text-align: right;\">\n",
       "      <th></th>\n",
       "      <th>Table Names</th>\n",
       "    </tr>\n",
       "  </thead>\n",
       "  <tbody>\n",
       "    <tr>\n",
       "      <th>0</th>\n",
       "      <td>movie_basics</td>\n",
       "    </tr>\n",
       "    <tr>\n",
       "      <th>1</th>\n",
       "      <td>directors</td>\n",
       "    </tr>\n",
       "    <tr>\n",
       "      <th>2</th>\n",
       "      <td>known_for</td>\n",
       "    </tr>\n",
       "    <tr>\n",
       "      <th>3</th>\n",
       "      <td>movie_akas</td>\n",
       "    </tr>\n",
       "    <tr>\n",
       "      <th>4</th>\n",
       "      <td>movie_ratings</td>\n",
       "    </tr>\n",
       "    <tr>\n",
       "      <th>5</th>\n",
       "      <td>persons</td>\n",
       "    </tr>\n",
       "    <tr>\n",
       "      <th>6</th>\n",
       "      <td>principals</td>\n",
       "    </tr>\n",
       "    <tr>\n",
       "      <th>7</th>\n",
       "      <td>writers</td>\n",
       "    </tr>\n",
       "  </tbody>\n",
       "</table>\n",
       "</div>"
      ],
      "text/plain": [
       "     Table Names\n",
       "0   movie_basics\n",
       "1      directors\n",
       "2      known_for\n",
       "3     movie_akas\n",
       "4  movie_ratings\n",
       "5        persons\n",
       "6     principals\n",
       "7        writers"
      ]
     },
     "execution_count": 23,
     "metadata": {},
     "output_type": "execute_result"
    }
   ],
   "source": [
    "#View the table names for IMDB \n",
    "table_name_query = \"\"\"SELECT name \n",
    "                      AS 'Table Names' \n",
    "                      FROM sqlite_master \n",
    "                      WHERE type='table';\"\"\"\n",
    "\n",
    "pd.read_sql(table_name_query, conn)"
   ]
  },
  {
   "cell_type": "markdown",
   "metadata": {},
   "source": [
    "The needed tables are movie_ratings and movie_basics"
   ]
  },
  {
   "cell_type": "code",
   "execution_count": 24,
   "metadata": {},
   "outputs": [],
   "source": [
    "#load relevant tables to the database\n",
    "\n",
    "movie_ratings = pd.read_sql(\"SELECT * FROM movie_ratings\", conn)\n",
    "movie_basics = pd.read_sql(\"SELECT * FROM movie_basics\", conn)"
   ]
  },
  {
   "cell_type": "code",
   "execution_count": 25,
   "metadata": {},
   "outputs": [
    {
     "data": {
      "text/html": [
       "<div>\n",
       "<style scoped>\n",
       "    .dataframe tbody tr th:only-of-type {\n",
       "        vertical-align: middle;\n",
       "    }\n",
       "\n",
       "    .dataframe tbody tr th {\n",
       "        vertical-align: top;\n",
       "    }\n",
       "\n",
       "    .dataframe thead th {\n",
       "        text-align: right;\n",
       "    }\n",
       "</style>\n",
       "<table border=\"1\" class=\"dataframe\">\n",
       "  <thead>\n",
       "    <tr style=\"text-align: right;\">\n",
       "      <th></th>\n",
       "      <th>movie_id</th>\n",
       "      <th>primary_title</th>\n",
       "      <th>original_title</th>\n",
       "      <th>start_year</th>\n",
       "      <th>runtime_minutes</th>\n",
       "      <th>genres</th>\n",
       "    </tr>\n",
       "  </thead>\n",
       "  <tbody>\n",
       "    <tr>\n",
       "      <th>0</th>\n",
       "      <td>tt0063540</td>\n",
       "      <td>Sunghursh</td>\n",
       "      <td>Sunghursh</td>\n",
       "      <td>2013</td>\n",
       "      <td>175.0</td>\n",
       "      <td>Action,Crime,Drama</td>\n",
       "    </tr>\n",
       "    <tr>\n",
       "      <th>1</th>\n",
       "      <td>tt0066787</td>\n",
       "      <td>One Day Before the Rainy Season</td>\n",
       "      <td>Ashad Ka Ek Din</td>\n",
       "      <td>2019</td>\n",
       "      <td>114.0</td>\n",
       "      <td>Biography,Drama</td>\n",
       "    </tr>\n",
       "    <tr>\n",
       "      <th>2</th>\n",
       "      <td>tt0069049</td>\n",
       "      <td>The Other Side of the Wind</td>\n",
       "      <td>The Other Side of the Wind</td>\n",
       "      <td>2018</td>\n",
       "      <td>122.0</td>\n",
       "      <td>Drama</td>\n",
       "    </tr>\n",
       "    <tr>\n",
       "      <th>3</th>\n",
       "      <td>tt0069204</td>\n",
       "      <td>Sabse Bada Sukh</td>\n",
       "      <td>Sabse Bada Sukh</td>\n",
       "      <td>2018</td>\n",
       "      <td>NaN</td>\n",
       "      <td>Comedy,Drama</td>\n",
       "    </tr>\n",
       "    <tr>\n",
       "      <th>4</th>\n",
       "      <td>tt0100275</td>\n",
       "      <td>The Wandering Soap Opera</td>\n",
       "      <td>La Telenovela Errante</td>\n",
       "      <td>2017</td>\n",
       "      <td>80.0</td>\n",
       "      <td>Comedy,Drama,Fantasy</td>\n",
       "    </tr>\n",
       "  </tbody>\n",
       "</table>\n",
       "</div>"
      ],
      "text/plain": [
       "    movie_id                    primary_title              original_title  \\\n",
       "0  tt0063540                        Sunghursh                   Sunghursh   \n",
       "1  tt0066787  One Day Before the Rainy Season             Ashad Ka Ek Din   \n",
       "2  tt0069049       The Other Side of the Wind  The Other Side of the Wind   \n",
       "3  tt0069204                  Sabse Bada Sukh             Sabse Bada Sukh   \n",
       "4  tt0100275         The Wandering Soap Opera       La Telenovela Errante   \n",
       "\n",
       "   start_year  runtime_minutes                genres  \n",
       "0        2013            175.0    Action,Crime,Drama  \n",
       "1        2019            114.0       Biography,Drama  \n",
       "2        2018            122.0                 Drama  \n",
       "3        2018              NaN          Comedy,Drama  \n",
       "4        2017             80.0  Comedy,Drama,Fantasy  "
      ]
     },
     "execution_count": 25,
     "metadata": {},
     "output_type": "execute_result"
    }
   ],
   "source": [
    "# view top records\n",
    "movie_basics.head()"
   ]
  },
  {
   "cell_type": "code",
   "execution_count": 26,
   "metadata": {},
   "outputs": [
    {
     "data": {
      "text/html": [
       "<div>\n",
       "<style scoped>\n",
       "    .dataframe tbody tr th:only-of-type {\n",
       "        vertical-align: middle;\n",
       "    }\n",
       "\n",
       "    .dataframe tbody tr th {\n",
       "        vertical-align: top;\n",
       "    }\n",
       "\n",
       "    .dataframe thead th {\n",
       "        text-align: right;\n",
       "    }\n",
       "</style>\n",
       "<table border=\"1\" class=\"dataframe\">\n",
       "  <thead>\n",
       "    <tr style=\"text-align: right;\">\n",
       "      <th></th>\n",
       "      <th>movie_id</th>\n",
       "      <th>averagerating</th>\n",
       "      <th>numvotes</th>\n",
       "    </tr>\n",
       "  </thead>\n",
       "  <tbody>\n",
       "    <tr>\n",
       "      <th>0</th>\n",
       "      <td>tt10356526</td>\n",
       "      <td>8.3</td>\n",
       "      <td>31</td>\n",
       "    </tr>\n",
       "    <tr>\n",
       "      <th>1</th>\n",
       "      <td>tt10384606</td>\n",
       "      <td>8.9</td>\n",
       "      <td>559</td>\n",
       "    </tr>\n",
       "    <tr>\n",
       "      <th>2</th>\n",
       "      <td>tt1042974</td>\n",
       "      <td>6.4</td>\n",
       "      <td>20</td>\n",
       "    </tr>\n",
       "    <tr>\n",
       "      <th>3</th>\n",
       "      <td>tt1043726</td>\n",
       "      <td>4.2</td>\n",
       "      <td>50352</td>\n",
       "    </tr>\n",
       "    <tr>\n",
       "      <th>4</th>\n",
       "      <td>tt1060240</td>\n",
       "      <td>6.5</td>\n",
       "      <td>21</td>\n",
       "    </tr>\n",
       "  </tbody>\n",
       "</table>\n",
       "</div>"
      ],
      "text/plain": [
       "     movie_id  averagerating  numvotes\n",
       "0  tt10356526            8.3        31\n",
       "1  tt10384606            8.9       559\n",
       "2   tt1042974            6.4        20\n",
       "3   tt1043726            4.2     50352\n",
       "4   tt1060240            6.5        21"
      ]
     },
     "execution_count": 26,
     "metadata": {},
     "output_type": "execute_result"
    }
   ],
   "source": [
    "movie_ratings.head()"
   ]
  },
  {
   "cell_type": "markdown",
   "metadata": {},
   "source": [
    "We are going to merge or join the tow major tables and prepare the joined table for analysis"
   ]
  },
  {
   "cell_type": "code",
   "execution_count": 27,
   "metadata": {},
   "outputs": [],
   "source": [
    "imdb_join_query = \"\"\"SELECT *\n",
    "                     FROM movie_basics mb\n",
    "                     JOIN movie_ratings mr\n",
    "                     ON mb.movie_id = mr.movie_id\n",
    "\"\"\""
   ]
  },
  {
   "cell_type": "code",
   "execution_count": 28,
   "metadata": {},
   "outputs": [
    {
     "data": {
      "text/html": [
       "<div>\n",
       "<style scoped>\n",
       "    .dataframe tbody tr th:only-of-type {\n",
       "        vertical-align: middle;\n",
       "    }\n",
       "\n",
       "    .dataframe tbody tr th {\n",
       "        vertical-align: top;\n",
       "    }\n",
       "\n",
       "    .dataframe thead th {\n",
       "        text-align: right;\n",
       "    }\n",
       "</style>\n",
       "<table border=\"1\" class=\"dataframe\">\n",
       "  <thead>\n",
       "    <tr style=\"text-align: right;\">\n",
       "      <th></th>\n",
       "      <th>movie_id</th>\n",
       "      <th>primary_title</th>\n",
       "      <th>original_title</th>\n",
       "      <th>start_year</th>\n",
       "      <th>runtime_minutes</th>\n",
       "      <th>genres</th>\n",
       "      <th>movie_id</th>\n",
       "      <th>averagerating</th>\n",
       "      <th>numvotes</th>\n",
       "    </tr>\n",
       "  </thead>\n",
       "  <tbody>\n",
       "    <tr>\n",
       "      <th>0</th>\n",
       "      <td>tt0063540</td>\n",
       "      <td>Sunghursh</td>\n",
       "      <td>Sunghursh</td>\n",
       "      <td>2013</td>\n",
       "      <td>175.0</td>\n",
       "      <td>Action,Crime,Drama</td>\n",
       "      <td>tt0063540</td>\n",
       "      <td>7.0</td>\n",
       "      <td>77</td>\n",
       "    </tr>\n",
       "    <tr>\n",
       "      <th>1</th>\n",
       "      <td>tt0066787</td>\n",
       "      <td>One Day Before the Rainy Season</td>\n",
       "      <td>Ashad Ka Ek Din</td>\n",
       "      <td>2019</td>\n",
       "      <td>114.0</td>\n",
       "      <td>Biography,Drama</td>\n",
       "      <td>tt0066787</td>\n",
       "      <td>7.2</td>\n",
       "      <td>43</td>\n",
       "    </tr>\n",
       "    <tr>\n",
       "      <th>2</th>\n",
       "      <td>tt0069049</td>\n",
       "      <td>The Other Side of the Wind</td>\n",
       "      <td>The Other Side of the Wind</td>\n",
       "      <td>2018</td>\n",
       "      <td>122.0</td>\n",
       "      <td>Drama</td>\n",
       "      <td>tt0069049</td>\n",
       "      <td>6.9</td>\n",
       "      <td>4517</td>\n",
       "    </tr>\n",
       "    <tr>\n",
       "      <th>3</th>\n",
       "      <td>tt0069204</td>\n",
       "      <td>Sabse Bada Sukh</td>\n",
       "      <td>Sabse Bada Sukh</td>\n",
       "      <td>2018</td>\n",
       "      <td>NaN</td>\n",
       "      <td>Comedy,Drama</td>\n",
       "      <td>tt0069204</td>\n",
       "      <td>6.1</td>\n",
       "      <td>13</td>\n",
       "    </tr>\n",
       "    <tr>\n",
       "      <th>4</th>\n",
       "      <td>tt0100275</td>\n",
       "      <td>The Wandering Soap Opera</td>\n",
       "      <td>La Telenovela Errante</td>\n",
       "      <td>2017</td>\n",
       "      <td>80.0</td>\n",
       "      <td>Comedy,Drama,Fantasy</td>\n",
       "      <td>tt0100275</td>\n",
       "      <td>6.5</td>\n",
       "      <td>119</td>\n",
       "    </tr>\n",
       "    <tr>\n",
       "      <th>...</th>\n",
       "      <td>...</td>\n",
       "      <td>...</td>\n",
       "      <td>...</td>\n",
       "      <td>...</td>\n",
       "      <td>...</td>\n",
       "      <td>...</td>\n",
       "      <td>...</td>\n",
       "      <td>...</td>\n",
       "      <td>...</td>\n",
       "    </tr>\n",
       "    <tr>\n",
       "      <th>73851</th>\n",
       "      <td>tt9913084</td>\n",
       "      <td>Diabolik sono io</td>\n",
       "      <td>Diabolik sono io</td>\n",
       "      <td>2019</td>\n",
       "      <td>75.0</td>\n",
       "      <td>Documentary</td>\n",
       "      <td>tt9913084</td>\n",
       "      <td>6.2</td>\n",
       "      <td>6</td>\n",
       "    </tr>\n",
       "    <tr>\n",
       "      <th>73852</th>\n",
       "      <td>tt9914286</td>\n",
       "      <td>Sokagin Çocuklari</td>\n",
       "      <td>Sokagin Çocuklari</td>\n",
       "      <td>2019</td>\n",
       "      <td>98.0</td>\n",
       "      <td>Drama,Family</td>\n",
       "      <td>tt9914286</td>\n",
       "      <td>8.7</td>\n",
       "      <td>136</td>\n",
       "    </tr>\n",
       "    <tr>\n",
       "      <th>73853</th>\n",
       "      <td>tt9914642</td>\n",
       "      <td>Albatross</td>\n",
       "      <td>Albatross</td>\n",
       "      <td>2017</td>\n",
       "      <td>NaN</td>\n",
       "      <td>Documentary</td>\n",
       "      <td>tt9914642</td>\n",
       "      <td>8.5</td>\n",
       "      <td>8</td>\n",
       "    </tr>\n",
       "    <tr>\n",
       "      <th>73854</th>\n",
       "      <td>tt9914942</td>\n",
       "      <td>La vida sense la Sara Amat</td>\n",
       "      <td>La vida sense la Sara Amat</td>\n",
       "      <td>2019</td>\n",
       "      <td>NaN</td>\n",
       "      <td>None</td>\n",
       "      <td>tt9914942</td>\n",
       "      <td>6.6</td>\n",
       "      <td>5</td>\n",
       "    </tr>\n",
       "    <tr>\n",
       "      <th>73855</th>\n",
       "      <td>tt9916160</td>\n",
       "      <td>Drømmeland</td>\n",
       "      <td>Drømmeland</td>\n",
       "      <td>2019</td>\n",
       "      <td>72.0</td>\n",
       "      <td>Documentary</td>\n",
       "      <td>tt9916160</td>\n",
       "      <td>6.5</td>\n",
       "      <td>11</td>\n",
       "    </tr>\n",
       "  </tbody>\n",
       "</table>\n",
       "<p>73856 rows × 9 columns</p>\n",
       "</div>"
      ],
      "text/plain": [
       "        movie_id                    primary_title              original_title  \\\n",
       "0      tt0063540                        Sunghursh                   Sunghursh   \n",
       "1      tt0066787  One Day Before the Rainy Season             Ashad Ka Ek Din   \n",
       "2      tt0069049       The Other Side of the Wind  The Other Side of the Wind   \n",
       "3      tt0069204                  Sabse Bada Sukh             Sabse Bada Sukh   \n",
       "4      tt0100275         The Wandering Soap Opera       La Telenovela Errante   \n",
       "...          ...                              ...                         ...   \n",
       "73851  tt9913084                 Diabolik sono io            Diabolik sono io   \n",
       "73852  tt9914286                Sokagin Çocuklari           Sokagin Çocuklari   \n",
       "73853  tt9914642                        Albatross                   Albatross   \n",
       "73854  tt9914942       La vida sense la Sara Amat  La vida sense la Sara Amat   \n",
       "73855  tt9916160                       Drømmeland                  Drømmeland   \n",
       "\n",
       "       start_year  runtime_minutes                genres   movie_id  \\\n",
       "0            2013            175.0    Action,Crime,Drama  tt0063540   \n",
       "1            2019            114.0       Biography,Drama  tt0066787   \n",
       "2            2018            122.0                 Drama  tt0069049   \n",
       "3            2018              NaN          Comedy,Drama  tt0069204   \n",
       "4            2017             80.0  Comedy,Drama,Fantasy  tt0100275   \n",
       "...           ...              ...                   ...        ...   \n",
       "73851        2019             75.0           Documentary  tt9913084   \n",
       "73852        2019             98.0          Drama,Family  tt9914286   \n",
       "73853        2017              NaN           Documentary  tt9914642   \n",
       "73854        2019              NaN                  None  tt9914942   \n",
       "73855        2019             72.0           Documentary  tt9916160   \n",
       "\n",
       "       averagerating  numvotes  \n",
       "0                7.0        77  \n",
       "1                7.2        43  \n",
       "2                6.9      4517  \n",
       "3                6.1        13  \n",
       "4                6.5       119  \n",
       "...              ...       ...  \n",
       "73851            6.2         6  \n",
       "73852            8.7       136  \n",
       "73853            8.5         8  \n",
       "73854            6.6         5  \n",
       "73855            6.5        11  \n",
       "\n",
       "[73856 rows x 9 columns]"
      ]
     },
     "execution_count": 28,
     "metadata": {},
     "output_type": "execute_result"
    }
   ],
   "source": [
    "#view the joined tables\n",
    "pd.read_sql(imdb_join_query, conn)\n"
   ]
  },
  {
   "cell_type": "code",
   "execution_count": 29,
   "metadata": {},
   "outputs": [
    {
     "data": {
      "text/html": [
       "<div>\n",
       "<style scoped>\n",
       "    .dataframe tbody tr th:only-of-type {\n",
       "        vertical-align: middle;\n",
       "    }\n",
       "\n",
       "    .dataframe tbody tr th {\n",
       "        vertical-align: top;\n",
       "    }\n",
       "\n",
       "    .dataframe thead th {\n",
       "        text-align: right;\n",
       "    }\n",
       "</style>\n",
       "<table border=\"1\" class=\"dataframe\">\n",
       "  <thead>\n",
       "    <tr style=\"text-align: right;\">\n",
       "      <th></th>\n",
       "      <th>movie_id</th>\n",
       "      <th>primary_title</th>\n",
       "      <th>original_title</th>\n",
       "      <th>start_year</th>\n",
       "      <th>runtime_minutes</th>\n",
       "      <th>genres</th>\n",
       "      <th>movie_id</th>\n",
       "      <th>averagerating</th>\n",
       "      <th>numvotes</th>\n",
       "    </tr>\n",
       "  </thead>\n",
       "  <tbody>\n",
       "    <tr>\n",
       "      <th>0</th>\n",
       "      <td>tt0063540</td>\n",
       "      <td>Sunghursh</td>\n",
       "      <td>Sunghursh</td>\n",
       "      <td>2013</td>\n",
       "      <td>175.0</td>\n",
       "      <td>Action,Crime,Drama</td>\n",
       "      <td>tt0063540</td>\n",
       "      <td>7.0</td>\n",
       "      <td>77</td>\n",
       "    </tr>\n",
       "    <tr>\n",
       "      <th>1</th>\n",
       "      <td>tt0066787</td>\n",
       "      <td>One Day Before the Rainy Season</td>\n",
       "      <td>Ashad Ka Ek Din</td>\n",
       "      <td>2019</td>\n",
       "      <td>114.0</td>\n",
       "      <td>Biography,Drama</td>\n",
       "      <td>tt0066787</td>\n",
       "      <td>7.2</td>\n",
       "      <td>43</td>\n",
       "    </tr>\n",
       "    <tr>\n",
       "      <th>2</th>\n",
       "      <td>tt0069049</td>\n",
       "      <td>The Other Side of the Wind</td>\n",
       "      <td>The Other Side of the Wind</td>\n",
       "      <td>2018</td>\n",
       "      <td>122.0</td>\n",
       "      <td>Drama</td>\n",
       "      <td>tt0069049</td>\n",
       "      <td>6.9</td>\n",
       "      <td>4517</td>\n",
       "    </tr>\n",
       "    <tr>\n",
       "      <th>3</th>\n",
       "      <td>tt0069204</td>\n",
       "      <td>Sabse Bada Sukh</td>\n",
       "      <td>Sabse Bada Sukh</td>\n",
       "      <td>2018</td>\n",
       "      <td>NaN</td>\n",
       "      <td>Comedy,Drama</td>\n",
       "      <td>tt0069204</td>\n",
       "      <td>6.1</td>\n",
       "      <td>13</td>\n",
       "    </tr>\n",
       "    <tr>\n",
       "      <th>4</th>\n",
       "      <td>tt0100275</td>\n",
       "      <td>The Wandering Soap Opera</td>\n",
       "      <td>La Telenovela Errante</td>\n",
       "      <td>2017</td>\n",
       "      <td>80.0</td>\n",
       "      <td>Comedy,Drama,Fantasy</td>\n",
       "      <td>tt0100275</td>\n",
       "      <td>6.5</td>\n",
       "      <td>119</td>\n",
       "    </tr>\n",
       "    <tr>\n",
       "      <th>...</th>\n",
       "      <td>...</td>\n",
       "      <td>...</td>\n",
       "      <td>...</td>\n",
       "      <td>...</td>\n",
       "      <td>...</td>\n",
       "      <td>...</td>\n",
       "      <td>...</td>\n",
       "      <td>...</td>\n",
       "      <td>...</td>\n",
       "    </tr>\n",
       "    <tr>\n",
       "      <th>73851</th>\n",
       "      <td>tt9913084</td>\n",
       "      <td>Diabolik sono io</td>\n",
       "      <td>Diabolik sono io</td>\n",
       "      <td>2019</td>\n",
       "      <td>75.0</td>\n",
       "      <td>Documentary</td>\n",
       "      <td>tt9913084</td>\n",
       "      <td>6.2</td>\n",
       "      <td>6</td>\n",
       "    </tr>\n",
       "    <tr>\n",
       "      <th>73852</th>\n",
       "      <td>tt9914286</td>\n",
       "      <td>Sokagin Çocuklari</td>\n",
       "      <td>Sokagin Çocuklari</td>\n",
       "      <td>2019</td>\n",
       "      <td>98.0</td>\n",
       "      <td>Drama,Family</td>\n",
       "      <td>tt9914286</td>\n",
       "      <td>8.7</td>\n",
       "      <td>136</td>\n",
       "    </tr>\n",
       "    <tr>\n",
       "      <th>73853</th>\n",
       "      <td>tt9914642</td>\n",
       "      <td>Albatross</td>\n",
       "      <td>Albatross</td>\n",
       "      <td>2017</td>\n",
       "      <td>NaN</td>\n",
       "      <td>Documentary</td>\n",
       "      <td>tt9914642</td>\n",
       "      <td>8.5</td>\n",
       "      <td>8</td>\n",
       "    </tr>\n",
       "    <tr>\n",
       "      <th>73854</th>\n",
       "      <td>tt9914942</td>\n",
       "      <td>La vida sense la Sara Amat</td>\n",
       "      <td>La vida sense la Sara Amat</td>\n",
       "      <td>2019</td>\n",
       "      <td>NaN</td>\n",
       "      <td>None</td>\n",
       "      <td>tt9914942</td>\n",
       "      <td>6.6</td>\n",
       "      <td>5</td>\n",
       "    </tr>\n",
       "    <tr>\n",
       "      <th>73855</th>\n",
       "      <td>tt9916160</td>\n",
       "      <td>Drømmeland</td>\n",
       "      <td>Drømmeland</td>\n",
       "      <td>2019</td>\n",
       "      <td>72.0</td>\n",
       "      <td>Documentary</td>\n",
       "      <td>tt9916160</td>\n",
       "      <td>6.5</td>\n",
       "      <td>11</td>\n",
       "    </tr>\n",
       "  </tbody>\n",
       "</table>\n",
       "<p>73856 rows × 9 columns</p>\n",
       "</div>"
      ],
      "text/plain": [
       "        movie_id                    primary_title              original_title  \\\n",
       "0      tt0063540                        Sunghursh                   Sunghursh   \n",
       "1      tt0066787  One Day Before the Rainy Season             Ashad Ka Ek Din   \n",
       "2      tt0069049       The Other Side of the Wind  The Other Side of the Wind   \n",
       "3      tt0069204                  Sabse Bada Sukh             Sabse Bada Sukh   \n",
       "4      tt0100275         The Wandering Soap Opera       La Telenovela Errante   \n",
       "...          ...                              ...                         ...   \n",
       "73851  tt9913084                 Diabolik sono io            Diabolik sono io   \n",
       "73852  tt9914286                Sokagin Çocuklari           Sokagin Çocuklari   \n",
       "73853  tt9914642                        Albatross                   Albatross   \n",
       "73854  tt9914942       La vida sense la Sara Amat  La vida sense la Sara Amat   \n",
       "73855  tt9916160                       Drømmeland                  Drømmeland   \n",
       "\n",
       "       start_year  runtime_minutes                genres   movie_id  \\\n",
       "0            2013            175.0    Action,Crime,Drama  tt0063540   \n",
       "1            2019            114.0       Biography,Drama  tt0066787   \n",
       "2            2018            122.0                 Drama  tt0069049   \n",
       "3            2018              NaN          Comedy,Drama  tt0069204   \n",
       "4            2017             80.0  Comedy,Drama,Fantasy  tt0100275   \n",
       "...           ...              ...                   ...        ...   \n",
       "73851        2019             75.0           Documentary  tt9913084   \n",
       "73852        2019             98.0          Drama,Family  tt9914286   \n",
       "73853        2017              NaN           Documentary  tt9914642   \n",
       "73854        2019              NaN                  None  tt9914942   \n",
       "73855        2019             72.0           Documentary  tt9916160   \n",
       "\n",
       "       averagerating  numvotes  \n",
       "0                7.0        77  \n",
       "1                7.2        43  \n",
       "2                6.9      4517  \n",
       "3                6.1        13  \n",
       "4                6.5       119  \n",
       "...              ...       ...  \n",
       "73851            6.2         6  \n",
       "73852            8.7       136  \n",
       "73853            8.5         8  \n",
       "73854            6.6         5  \n",
       "73855            6.5        11  \n",
       "\n",
       "[73856 rows x 9 columns]"
      ]
     },
     "execution_count": 29,
     "metadata": {},
     "output_type": "execute_result"
    }
   ],
   "source": [
    "#assign the variable imdb_data to the joined tables\n",
    "imdb_data = pd.read_sql(imdb_join_query, conn)\n",
    "imdb_data"
   ]
  },
  {
   "cell_type": "code",
   "execution_count": 30,
   "metadata": {
    "scrolled": true
   },
   "outputs": [],
   "source": [
    "#load other datasets\n",
    "rotten_tomatoes_movie_info = pd.read_csv('rt.movie_info.tsv', sep='\\t', encoding = 'latin1')\n",
    "rotten_tomatoes_reviews = pd.read_csv('rt.reviews.tsv', sep = '\\t', encoding = 'latin1')\n",
    "the_movie_data = pd.read_csv('tmdb.movies.csv', delimiter = ',', encoding = 'latin1')\n",
    "tn_movie_budgets = pd.read_csv('tn.movie_budgets.csv', delimiter = ',', encoding = 'latin1')\n",
    "bom_movie_gross = pd.read_csv('bom.movie_gross.csv', delimiter = ',', encoding = 'latin1') "
   ]
  },
  {
   "cell_type": "code",
   "execution_count": 31,
   "metadata": {},
   "outputs": [
    {
     "data": {
      "text/plain": [
       "Index(['Unnamed: 0', 'genre_ids', 'id', 'original_language', 'original_title',\n",
       "       'popularity', 'release_date', 'title', 'vote_average', 'vote_count'],\n",
       "      dtype='object')"
      ]
     },
     "execution_count": 31,
     "metadata": {},
     "output_type": "execute_result"
    }
   ],
   "source": [
    "# Display  various column names\n",
    "\n",
    "#rotten tomatoes movie info and reviews\n",
    "rotten_tomatoes_movie_info.columns\n",
    "rotten_tomatoes_reviews.columns\n",
    "\n",
    "# movie data colums\n",
    "the_movie_data.columns\n"
   ]
  },
  {
   "cell_type": "code",
   "execution_count": 32,
   "metadata": {},
   "outputs": [
    {
     "data": {
      "text/html": [
       "<div>\n",
       "<style scoped>\n",
       "    .dataframe tbody tr th:only-of-type {\n",
       "        vertical-align: middle;\n",
       "    }\n",
       "\n",
       "    .dataframe tbody tr th {\n",
       "        vertical-align: top;\n",
       "    }\n",
       "\n",
       "    .dataframe thead th {\n",
       "        text-align: right;\n",
       "    }\n",
       "</style>\n",
       "<table border=\"1\" class=\"dataframe\">\n",
       "  <thead>\n",
       "    <tr style=\"text-align: right;\">\n",
       "      <th></th>\n",
       "      <th>id</th>\n",
       "      <th>release_date</th>\n",
       "      <th>movie</th>\n",
       "      <th>production_budget</th>\n",
       "      <th>domestic_gross</th>\n",
       "      <th>worldwide_gross</th>\n",
       "    </tr>\n",
       "  </thead>\n",
       "  <tbody>\n",
       "    <tr>\n",
       "      <th>0</th>\n",
       "      <td>1</td>\n",
       "      <td>Dec 18, 2009</td>\n",
       "      <td>Avatar</td>\n",
       "      <td>$425,000,000</td>\n",
       "      <td>$760,507,625</td>\n",
       "      <td>$2,776,345,279</td>\n",
       "    </tr>\n",
       "    <tr>\n",
       "      <th>1</th>\n",
       "      <td>2</td>\n",
       "      <td>May 20, 2011</td>\n",
       "      <td>Pirates of the Caribbean: On Stranger Tides</td>\n",
       "      <td>$410,600,000</td>\n",
       "      <td>$241,063,875</td>\n",
       "      <td>$1,045,663,875</td>\n",
       "    </tr>\n",
       "    <tr>\n",
       "      <th>2</th>\n",
       "      <td>3</td>\n",
       "      <td>Jun 7, 2019</td>\n",
       "      <td>Dark Phoenix</td>\n",
       "      <td>$350,000,000</td>\n",
       "      <td>$42,762,350</td>\n",
       "      <td>$149,762,350</td>\n",
       "    </tr>\n",
       "    <tr>\n",
       "      <th>3</th>\n",
       "      <td>4</td>\n",
       "      <td>May 1, 2015</td>\n",
       "      <td>Avengers: Age of Ultron</td>\n",
       "      <td>$330,600,000</td>\n",
       "      <td>$459,005,868</td>\n",
       "      <td>$1,403,013,963</td>\n",
       "    </tr>\n",
       "    <tr>\n",
       "      <th>4</th>\n",
       "      <td>5</td>\n",
       "      <td>Dec 15, 2017</td>\n",
       "      <td>Star Wars Ep. VIII: The Last Jedi</td>\n",
       "      <td>$317,000,000</td>\n",
       "      <td>$620,181,382</td>\n",
       "      <td>$1,316,721,747</td>\n",
       "    </tr>\n",
       "  </tbody>\n",
       "</table>\n",
       "</div>"
      ],
      "text/plain": [
       "   id  release_date                                        movie  \\\n",
       "0   1  Dec 18, 2009                                       Avatar   \n",
       "1   2  May 20, 2011  Pirates of the Caribbean: On Stranger Tides   \n",
       "2   3   Jun 7, 2019                                 Dark Phoenix   \n",
       "3   4   May 1, 2015                      Avengers: Age of Ultron   \n",
       "4   5  Dec 15, 2017            Star Wars Ep. VIII: The Last Jedi   \n",
       "\n",
       "  production_budget domestic_gross worldwide_gross  \n",
       "0      $425,000,000   $760,507,625  $2,776,345,279  \n",
       "1      $410,600,000   $241,063,875  $1,045,663,875  \n",
       "2      $350,000,000    $42,762,350    $149,762,350  \n",
       "3      $330,600,000   $459,005,868  $1,403,013,963  \n",
       "4      $317,000,000   $620,181,382  $1,316,721,747  "
      ]
     },
     "execution_count": 32,
     "metadata": {},
     "output_type": "execute_result"
    }
   ],
   "source": [
    "#view first few records box office movies gross\n",
    "#bom_movie_gross.head()\n",
    "\n",
    "#first few for movie budgets\n",
    "tn_movie_budgets.head()"
   ]
  },
  {
   "cell_type": "markdown",
   "metadata": {},
   "source": [
    "### Data cleaning "
   ]
  },
  {
   "cell_type": "markdown",
   "metadata": {},
   "source": [
    "#### 1. IMDB dataset"
   ]
  },
  {
   "cell_type": "markdown",
   "metadata": {},
   "source": [
    "We first check for any missing values in the IMDB database we first connected to."
   ]
  },
  {
   "cell_type": "code",
   "execution_count": 33,
   "metadata": {},
   "outputs": [
    {
     "data": {
      "text/plain": [
       "movie_id              0\n",
       "primary_title         0\n",
       "original_title        0\n",
       "start_year            0\n",
       "runtime_minutes    7620\n",
       "genres              804\n",
       "movie_id              0\n",
       "averagerating         0\n",
       "numvotes              0\n",
       "dtype: int64"
      ]
     },
     "execution_count": 33,
     "metadata": {},
     "output_type": "execute_result"
    }
   ],
   "source": [
    "#check for any issing values\n",
    "imdb_data.isna().sum()"
   ]
  },
  {
   "cell_type": "markdown",
   "metadata": {},
   "source": [
    "It is clear the 'runtime_minutes' and 'genres' columns have missing values.\n",
    "Movies of the same genre generally have approximately the same running times hence we can use a measure of central tendancy, that is, the\n",
    "Median which is sutable as it is not affected by extreme values\n"
   ]
  },
  {
   "cell_type": "code",
   "execution_count": 34,
   "metadata": {},
   "outputs": [],
   "source": [
    "#Runtime_minutes column\n",
    "\n",
    "#fill na values in the runtime_minutes column with the median for the whole column\n",
    "\n",
    "imdb_data['runtime_minutes'] = imdb_data['runtime_minutes'].fillna(imdb_data['runtime_minutes'].median())"
   ]
  },
  {
   "cell_type": "code",
   "execution_count": 35,
   "metadata": {},
   "outputs": [
    {
     "data": {
      "text/plain": [
       "0"
      ]
     },
     "execution_count": 35,
     "metadata": {},
     "output_type": "execute_result"
    }
   ],
   "source": [
    "imdb_data['runtime_minutes'].isna().sum()\n"
   ]
  },
  {
   "cell_type": "code",
   "execution_count": 36,
   "metadata": {},
   "outputs": [],
   "source": [
    "#Genres column\n",
    "imdb_data['genres'] = imdb_data['genres'].fillna(\"Unknown\")"
   ]
  },
  {
   "cell_type": "markdown",
   "metadata": {},
   "source": [
    " We can confirm whether there are any missing values"
   ]
  },
  {
   "cell_type": "code",
   "execution_count": 37,
   "metadata": {},
   "outputs": [
    {
     "data": {
      "text/plain": [
       "movie_id           0\n",
       "primary_title      0\n",
       "original_title     0\n",
       "start_year         0\n",
       "runtime_minutes    0\n",
       "genres             0\n",
       "movie_id           0\n",
       "averagerating      0\n",
       "numvotes           0\n",
       "dtype: int64"
      ]
     },
     "execution_count": 37,
     "metadata": {},
     "output_type": "execute_result"
    }
   ],
   "source": [
    "#check for missing values again\n",
    "imdb_data.isna().sum()"
   ]
  },
  {
   "cell_type": "markdown",
   "metadata": {},
   "source": [
    "We can check for any duplcates as well"
   ]
  },
  {
   "cell_type": "code",
   "execution_count": 38,
   "metadata": {},
   "outputs": [
    {
     "data": {
      "text/plain": [
       "0"
      ]
     },
     "execution_count": 38,
     "metadata": {},
     "output_type": "execute_result"
    }
   ],
   "source": [
    "#Checking for duplicates\n",
    "imdb_data.duplicated().sum()"
   ]
  },
  {
   "cell_type": "markdown",
   "metadata": {},
   "source": [
    "#### 2.Rotten Tomatoes Movie Info dataset"
   ]
  },
  {
   "cell_type": "markdown",
   "metadata": {},
   "source": [
    "We check for missing and duplicate values in the Rotten Tomatoes Movie Info TSv file"
   ]
  },
  {
   "cell_type": "code",
   "execution_count": 39,
   "metadata": {},
   "outputs": [
    {
     "data": {
      "text/plain": [
       "Index(['id', 'synopsis', 'rating', 'genre', 'director', 'writer',\n",
       "       'theater_date', 'dvd_date', 'currency', 'box_office', 'runtime',\n",
       "       'studio'],\n",
       "      dtype='object')"
      ]
     },
     "execution_count": 39,
     "metadata": {},
     "output_type": "execute_result"
    }
   ],
   "source": [
    "#View Columns\n",
    "rotten_tomatoes_movie_info.columns"
   ]
  },
  {
   "cell_type": "code",
   "execution_count": 40,
   "metadata": {},
   "outputs": [
    {
     "data": {
      "text/plain": [
       "id                 0\n",
       "synopsis          62\n",
       "rating             3\n",
       "genre              8\n",
       "director         199\n",
       "writer           449\n",
       "theater_date     359\n",
       "dvd_date         359\n",
       "currency        1220\n",
       "box_office      1220\n",
       "runtime           30\n",
       "studio          1066\n",
       "dtype: int64"
      ]
     },
     "execution_count": 40,
     "metadata": {},
     "output_type": "execute_result"
    }
   ],
   "source": [
    "#check for any missing values\n",
    "rotten_tomatoes_movie_info.isna().sum()"
   ]
  },
  {
   "cell_type": "markdown",
   "metadata": {},
   "source": [
    "We have multiple columns with missing values "
   ]
  },
  {
   "cell_type": "code",
   "execution_count": 41,
   "metadata": {},
   "outputs": [],
   "source": [
    "# Fill missing values for each column based on context\n",
    "\n",
    "# We can use 'No synopsis' for missing values in the synopsis column\n",
    "rotten_tomatoes_movie_info['synopsis'] = rotten_tomatoes_movie_info['synopsis'].fillna(\"No synopsis\")  "
   ]
  },
  {
   "cell_type": "code",
   "execution_count": 42,
   "metadata": {},
   "outputs": [
    {
     "data": {
      "text/plain": [
       "'R'"
      ]
     },
     "execution_count": 42,
     "metadata": {},
     "output_type": "execute_result"
    }
   ],
   "source": [
    "x = rotten_tomatoes_movie_info['rating'].mode()\n",
    "x[0]"
   ]
  },
  {
   "cell_type": "code",
   "execution_count": 43,
   "metadata": {},
   "outputs": [],
   "source": [
    "#for rating we can use the most common rating to fill in the missing values\n",
    "rotten_tomatoes_movie_info['rating'].mode()\n",
    "#the most common rating is 'R' and we fill this in the missing values\n",
    "rotten_tomatoes_movie_info['rating'] = rotten_tomatoes_movie_info['rating'].mode()[0]\n"
   ]
  },
  {
   "cell_type": "code",
   "execution_count": 44,
   "metadata": {},
   "outputs": [
    {
     "data": {
      "text/plain": [
       "id                 0\n",
       "synopsis           0\n",
       "rating             0\n",
       "genre              8\n",
       "director         199\n",
       "writer           449\n",
       "theater_date     359\n",
       "dvd_date         359\n",
       "currency        1220\n",
       "box_office      1220\n",
       "runtime           30\n",
       "studio          1066\n",
       "dtype: int64"
      ]
     },
     "execution_count": 44,
     "metadata": {},
     "output_type": "execute_result"
    }
   ],
   "source": [
    "rotten_tomatoes_movie_info.isna().sum()"
   ]
  },
  {
   "cell_type": "markdown",
   "metadata": {},
   "source": [
    "The columns Genre, director, writer, theater date, dvd date  and studio also have missing values and we can replace all their missing values using 'Unknown'"
   ]
  },
  {
   "cell_type": "code",
   "execution_count": 45,
   "metadata": {},
   "outputs": [],
   "source": [
    "rotten_tomatoes_movie_info[['genre', 'director', 'writer', 'theater_date', 'dvd_date', 'studio']] = rotten_tomatoes_movie_info[['genre', 'director', 'writer', 'theater_date', 'dvd_date', 'studio']].fillna('Unknown')"
   ]
  },
  {
   "cell_type": "code",
   "execution_count": 46,
   "metadata": {},
   "outputs": [
    {
     "data": {
      "text/plain": [
       "id                 0\n",
       "synopsis           0\n",
       "rating             0\n",
       "genre              0\n",
       "director           0\n",
       "writer             0\n",
       "theater_date       0\n",
       "dvd_date           0\n",
       "currency        1220\n",
       "box_office      1220\n",
       "runtime           30\n",
       "studio             0\n",
       "dtype: int64"
      ]
     },
     "execution_count": 46,
     "metadata": {},
     "output_type": "execute_result"
    }
   ],
   "source": [
    "#confirm any missing values in the 3 columns genre,director, writer, theater date, dvd date\n",
    "rotten_tomatoes_movie_info.isna().sum()"
   ]
  },
  {
   "cell_type": "code",
   "execution_count": 47,
   "metadata": {
    "scrolled": true
   },
   "outputs": [
    {
     "data": {
      "text/plain": [
       "array([nan, '$'], dtype=object)"
      ]
     },
     "execution_count": 47,
     "metadata": {},
     "output_type": "execute_result"
    }
   ],
   "source": [
    "#view the values on the currency column\n",
    "rotten_tomatoes_movie_info['currency'].unique()"
   ]
  },
  {
   "cell_type": "code",
   "execution_count": 48,
   "metadata": {},
   "outputs": [
    {
     "data": {
      "text/plain": [
       "0"
      ]
     },
     "execution_count": 48,
     "metadata": {},
     "output_type": "execute_result"
    }
   ],
   "source": [
    "#fill nan values with 'USD'\n",
    "rotten_tomatoes_movie_info[['currency']] = rotten_tomatoes_movie_info[['currency']].fillna('USD')\n",
    "\n",
    "#fill $ values with 'USD'\n",
    "rotten_tomatoes_movie_info['currency'] = rotten_tomatoes_movie_info['currency'].replace('$', 'USD')\n",
    "\n",
    "#confirm we dont have missing values and the currency is in USD\n",
    "rotten_tomatoes_movie_info['currency'].unique()\n",
    "rotten_tomatoes_movie_info['currency'].isna().sum()"
   ]
  },
  {
   "cell_type": "code",
   "execution_count": 49,
   "metadata": {},
   "outputs": [
    {
     "data": {
      "text/plain": [
       "0"
      ]
     },
     "execution_count": 49,
     "metadata": {},
     "output_type": "execute_result"
    }
   ],
   "source": [
    "#Missing values in the box office coluns are replaced by 0\n",
    "rotten_tomatoes_movie_info['box_office'] = rotten_tomatoes_movie_info['box_office'].fillna(0)\n",
    "\n",
    "#confirm changes\n",
    "rotten_tomatoes_movie_info['box_office'].isna().sum()"
   ]
  },
  {
   "cell_type": "code",
   "execution_count": 50,
   "metadata": {},
   "outputs": [
    {
     "data": {
      "text/plain": [
       "'104 minutes'"
      ]
     },
     "execution_count": 50,
     "metadata": {},
     "output_type": "execute_result"
    }
   ],
   "source": [
    "x = rotten_tomatoes_movie_info['runtime'].unique()\n",
    "x[0]"
   ]
  },
  {
   "cell_type": "code",
   "execution_count": 51,
   "metadata": {},
   "outputs": [],
   "source": [
    "rotten_tomatoes_movie_info['runtime'] = rotten_tomatoes_movie_info['runtime'].fillna(0)"
   ]
  },
  {
   "cell_type": "code",
   "execution_count": 52,
   "metadata": {},
   "outputs": [
    {
     "data": {
      "text/plain": [
       "0"
      ]
     },
     "execution_count": 52,
     "metadata": {},
     "output_type": "execute_result"
    }
   ],
   "source": [
    "rotten_tomatoes_movie_info['runtime'].isna().sum()"
   ]
  },
  {
   "cell_type": "code",
   "execution_count": 53,
   "metadata": {
    "scrolled": true
   },
   "outputs": [
    {
     "data": {
      "text/plain": [
       "0"
      ]
     },
     "execution_count": 53,
     "metadata": {},
     "output_type": "execute_result"
    }
   ],
   "source": [
    "#Checking for duplicates\n",
    "rotten_tomatoes_movie_info.duplicated().sum()"
   ]
  },
  {
   "cell_type": "markdown",
   "metadata": {},
   "source": [
    "It is evident there are are no duplicate values"
   ]
  },
  {
   "cell_type": "markdown",
   "metadata": {},
   "source": [
    "#### 3.Rotten Tomatoes Reviews dataset"
   ]
  },
  {
   "cell_type": "code",
   "execution_count": 54,
   "metadata": {},
   "outputs": [
    {
     "data": {
      "text/plain": [
       "id                0\n",
       "review         5563\n",
       "rating        13517\n",
       "fresh             0\n",
       "critic         2722\n",
       "top_critic        0\n",
       "publisher       309\n",
       "date              0\n",
       "dtype: int64"
      ]
     },
     "execution_count": 54,
     "metadata": {},
     "output_type": "execute_result"
    }
   ],
   "source": [
    "#Identify missing values on the Rotten Tomatoes Reviews dataset\n",
    "rotten_tomatoes_reviews.isna().sum()"
   ]
  },
  {
   "cell_type": "markdown",
   "metadata": {},
   "source": [
    "We first replace missing values in the rating column with 'No review available'"
   ]
  },
  {
   "cell_type": "code",
   "execution_count": 55,
   "metadata": {},
   "outputs": [],
   "source": [
    "#replace missing values on the reviews column\n",
    "rotten_tomatoes_reviews['review'] = rotten_tomatoes_reviews['review'].fillna('No review available')"
   ]
  },
  {
   "cell_type": "code",
   "execution_count": 56,
   "metadata": {},
   "outputs": [
    {
     "data": {
      "text/plain": [
       "0"
      ]
     },
     "execution_count": 56,
     "metadata": {},
     "output_type": "execute_result"
    }
   ],
   "source": [
    "#confirm changes\n",
    "rotten_tomatoes_reviews['review'].isna().sum()"
   ]
  },
  {
   "cell_type": "markdown",
   "metadata": {},
   "source": [
    "It is evident that the 'rating' column has multiple missing values\n",
    "We cannot drop all these rows hence we can impute the missing values with the median of the values available."
   ]
  },
  {
   "cell_type": "code",
   "execution_count": 57,
   "metadata": {},
   "outputs": [],
   "source": [
    "#convert the ratings that are in fractions tp floating point numbers\n",
    "numeric_ratings = rotten_tomatoes_reviews['rating'].str.extract(r'(\\d+(\\.\\d+)?)/\\d+')\n",
    "numeric_ratings = numeric_ratings[0].astype(float)\n",
    "\n",
    "#fill missing values with median of the column 'rating'\n",
    "rotten_tomatoes_reviews['rating'] = numeric_ratings.fillna(numeric_ratings.median())\n"
   ]
  },
  {
   "cell_type": "code",
   "execution_count": 58,
   "metadata": {},
   "outputs": [
    {
     "data": {
      "text/plain": [
       "0"
      ]
     },
     "execution_count": 58,
     "metadata": {},
     "output_type": "execute_result"
    }
   ],
   "source": [
    "#confirm changes in the rating column\n",
    "rotten_tomatoes_reviews['rating'].isna().sum()"
   ]
  },
  {
   "cell_type": "code",
   "execution_count": 59,
   "metadata": {},
   "outputs": [
    {
     "data": {
      "text/plain": [
       "50935"
      ]
     },
     "execution_count": 59,
     "metadata": {},
     "output_type": "execute_result"
    }
   ],
   "source": [
    "rotten_tomatoes_reviews['critic'].duplicated().sum()"
   ]
  },
  {
   "cell_type": "markdown",
   "metadata": {},
   "source": [
    "Duplicated values indicate that a critic has analysed multiple films and we are interested in the number of reviews from each critic."
   ]
  },
  {
   "cell_type": "code",
   "execution_count": 60,
   "metadata": {},
   "outputs": [
    {
     "data": {
      "text/plain": [
       "Emanuel Levy         595\n",
       "Roger Ebert          461\n",
       "Dennis Schwartz      413\n",
       "Nell Minow           372\n",
       "Frank Swietek        348\n",
       "                    ... \n",
       "Bob Satuloff           1\n",
       "Phil Brown             1\n",
       "Joan Anderman          1\n",
       "Wendy Haslem           1\n",
       "Danielle Riendeau      1\n",
       "Name: critic, Length: 3496, dtype: int64"
      ]
     },
     "execution_count": 60,
     "metadata": {},
     "output_type": "execute_result"
    }
   ],
   "source": [
    "rotten_tomatoes_reviews['critic'].value_counts()"
   ]
  },
  {
   "cell_type": "code",
   "execution_count": 61,
   "metadata": {},
   "outputs": [
    {
     "data": {
      "text/plain": [
       "id               0\n",
       "review           0\n",
       "rating           0\n",
       "fresh            0\n",
       "critic        2722\n",
       "top_critic       0\n",
       "publisher      309\n",
       "date             0\n",
       "dtype: int64"
      ]
     },
     "execution_count": 61,
     "metadata": {},
     "output_type": "execute_result"
    }
   ],
   "source": [
    "rotten_tomatoes_reviews.isna().sum()"
   ]
  },
  {
   "cell_type": "code",
   "execution_count": 62,
   "metadata": {},
   "outputs": [
    {
     "data": {
      "text/plain": [
       "array(['Patrick Nabarro', 'io9.com', 'Stream on Demand', ...,\n",
       "       'The Big Issue (Australia)', 'The Jacobin', 'OZY'], dtype=object)"
      ]
     },
     "execution_count": 62,
     "metadata": {},
     "output_type": "execute_result"
    }
   ],
   "source": [
    "#view unique values in column publisher\n",
    "rotten_tomatoes_reviews['publisher'].unique()"
   ]
  },
  {
   "cell_type": "markdown",
   "metadata": {},
   "source": [
    "Both the 'Critic' and 'Publisher' columns have missing values and can be replaced with the word 'Unknown'"
   ]
  },
  {
   "cell_type": "code",
   "execution_count": 63,
   "metadata": {},
   "outputs": [
    {
     "data": {
      "text/plain": [
       "id            0\n",
       "review        0\n",
       "rating        0\n",
       "fresh         0\n",
       "critic        0\n",
       "top_critic    0\n",
       "publisher     0\n",
       "date          0\n",
       "dtype: int64"
      ]
     },
     "execution_count": 63,
     "metadata": {},
     "output_type": "execute_result"
    }
   ],
   "source": [
    "rotten_tomatoes_reviews[['critic', 'publisher']] = rotten_tomatoes_reviews[['critic', 'publisher']].fillna('Unknown')\n",
    "\n",
    "#confirm changes\n",
    "rotten_tomatoes_reviews.isna().sum()"
   ]
  },
  {
   "cell_type": "markdown",
   "metadata": {},
   "source": [
    "We no longer have missing values in this dataset"
   ]
  },
  {
   "cell_type": "code",
   "execution_count": 64,
   "metadata": {},
   "outputs": [
    {
     "data": {
      "text/plain": [
       "9"
      ]
     },
     "execution_count": 64,
     "metadata": {},
     "output_type": "execute_result"
    }
   ],
   "source": [
    "#Checking for duplicates\n",
    "rotten_tomatoes_reviews.duplicated().sum()"
   ]
  },
  {
   "cell_type": "markdown",
   "metadata": {},
   "source": [
    "We do not have a large number of duplicates hence it is easier to drop them."
   ]
  },
  {
   "cell_type": "code",
   "execution_count": 65,
   "metadata": {},
   "outputs": [
    {
     "data": {
      "text/plain": [
       "0"
      ]
     },
     "execution_count": 65,
     "metadata": {},
     "output_type": "execute_result"
    }
   ],
   "source": [
    "rotten_tomatoes_reviews.drop_duplicates(inplace=True)\n",
    "\n",
    "#confirm changes\n",
    "rotten_tomatoes_reviews.duplicated().sum()\n"
   ]
  },
  {
   "cell_type": "markdown",
   "metadata": {},
   "source": [
    "#### 4.The Movie Data dataset"
   ]
  },
  {
   "cell_type": "code",
   "execution_count": 66,
   "metadata": {},
   "outputs": [
    {
     "data": {
      "text/plain": [
       "Unnamed: 0           0\n",
       "genre_ids            0\n",
       "id                   0\n",
       "original_language    0\n",
       "original_title       0\n",
       "popularity           0\n",
       "release_date         0\n",
       "title                0\n",
       "vote_average         0\n",
       "vote_count           0\n",
       "dtype: int64"
      ]
     },
     "execution_count": 66,
     "metadata": {},
     "output_type": "execute_result"
    }
   ],
   "source": [
    "#check for missing values i.e null values\n",
    "the_movie_data.isnull().sum()"
   ]
  },
  {
   "cell_type": "code",
   "execution_count": 67,
   "metadata": {},
   "outputs": [
    {
     "name": "stdout",
     "output_type": "stream",
     "text": [
      "Occurrences of 'N/A':\n",
      "Unnamed: 0           0\n",
      "genre_ids            0\n",
      "id                   0\n",
      "original_language    0\n",
      "original_title       0\n",
      "popularity           0\n",
      "release_date         0\n",
      "title                0\n",
      "vote_average         0\n",
      "vote_count           0\n",
      "dtype: int64\n",
      "Occurrences of 'Unknown':\n",
      "Unnamed: 0           0\n",
      "genre_ids            0\n",
      "id                   0\n",
      "original_language    0\n",
      "original_title       1\n",
      "popularity           0\n",
      "release_date         0\n",
      "title                1\n",
      "vote_average         0\n",
      "vote_count           0\n",
      "dtype: int64\n",
      "Occurrences of 'null':\n",
      "Unnamed: 0           0\n",
      "genre_ids            0\n",
      "id                   0\n",
      "original_language    0\n",
      "original_title       0\n",
      "popularity           0\n",
      "release_date         0\n",
      "title                0\n",
      "vote_average         0\n",
      "vote_count           0\n",
      "dtype: int64\n",
      "Occurrences of '':\n",
      "Unnamed: 0           0\n",
      "genre_ids            0\n",
      "id                   0\n",
      "original_language    0\n",
      "original_title       0\n",
      "popularity           0\n",
      "release_date         0\n",
      "title                0\n",
      "vote_average         0\n",
      "vote_count           0\n",
      "dtype: int64\n",
      "Occurrences of 'Null':\n",
      "Unnamed: 0           0\n",
      "genre_ids            0\n",
      "id                   0\n",
      "original_language    0\n",
      "original_title       0\n",
      "popularity           0\n",
      "release_date         0\n",
      "title                0\n",
      "vote_average         0\n",
      "vote_count           0\n",
      "dtype: int64\n"
     ]
    }
   ],
   "source": [
    "#check occurrence of any of N/A, Unkown, Null and \"\"\n",
    "missing = [\"N/A\", \"Unknown\", \"null\", \"\", \"Null\"]\n",
    "for x in missing:\n",
    "    print(f\"Occurrences of '{x}':\")\n",
    "    print((the_movie_data == x).sum())\n"
   ]
  },
  {
   "cell_type": "markdown",
   "metadata": {},
   "source": [
    "It is evident that The Movie Dataset does not have any missing values"
   ]
  },
  {
   "cell_type": "code",
   "execution_count": 68,
   "metadata": {},
   "outputs": [
    {
     "data": {
      "text/plain": [
       "0"
      ]
     },
     "execution_count": 68,
     "metadata": {},
     "output_type": "execute_result"
    }
   ],
   "source": [
    "#check for duplicates\n",
    "the_movie_data.duplicated().sum()"
   ]
  },
  {
   "cell_type": "markdown",
   "metadata": {},
   "source": [
    "We also do not have any duplicate values"
   ]
  },
  {
   "cell_type": "markdown",
   "metadata": {},
   "source": [
    "#### 5. The Numbers Movie-Budgets dataset"
   ]
  },
  {
   "cell_type": "code",
   "execution_count": 69,
   "metadata": {},
   "outputs": [
    {
     "data": {
      "text/plain": [
       "id                   0\n",
       "release_date         0\n",
       "movie                0\n",
       "production_budget    0\n",
       "domestic_gross       0\n",
       "worldwide_gross      0\n",
       "dtype: int64"
      ]
     },
     "execution_count": 69,
     "metadata": {},
     "output_type": "execute_result"
    }
   ],
   "source": [
    "#Check for missing values\n",
    "tn_movie_budgets.isna().sum()"
   ]
  },
  {
   "cell_type": "code",
   "execution_count": 70,
   "metadata": {},
   "outputs": [
    {
     "name": "stdout",
     "output_type": "stream",
     "text": [
      "Occurrences of 'N/A':\n",
      "id                   0\n",
      "release_date         0\n",
      "movie                0\n",
      "production_budget    0\n",
      "domestic_gross       0\n",
      "worldwide_gross      0\n",
      "dtype: int64\n",
      "Occurrences of 'Unknown':\n",
      "id                   0\n",
      "release_date         0\n",
      "movie                2\n",
      "production_budget    0\n",
      "domestic_gross       0\n",
      "worldwide_gross      0\n",
      "dtype: int64\n",
      "Occurrences of 'null':\n",
      "id                   0\n",
      "release_date         0\n",
      "movie                0\n",
      "production_budget    0\n",
      "domestic_gross       0\n",
      "worldwide_gross      0\n",
      "dtype: int64\n",
      "Occurrences of '':\n",
      "id                   0\n",
      "release_date         0\n",
      "movie                0\n",
      "production_budget    0\n",
      "domestic_gross       0\n",
      "worldwide_gross      0\n",
      "dtype: int64\n",
      "Occurrences of 'Null':\n",
      "id                   0\n",
      "release_date         0\n",
      "movie                0\n",
      "production_budget    0\n",
      "domestic_gross       0\n",
      "worldwide_gross      0\n",
      "dtype: int64\n"
     ]
    }
   ],
   "source": [
    "#Check for missing values\n",
    "for x in missing:\n",
    "    print(f\"Occurrences of '{x}':\")\n",
    "    print((tn_movie_budgets == x).sum())"
   ]
  },
  {
   "cell_type": "markdown",
   "metadata": {},
   "source": [
    "The dataset of Movie budgets from The Numbers does not have any missing values"
   ]
  },
  {
   "cell_type": "code",
   "execution_count": 71,
   "metadata": {},
   "outputs": [
    {
     "data": {
      "text/plain": [
       "0"
      ]
     },
     "execution_count": 71,
     "metadata": {},
     "output_type": "execute_result"
    }
   ],
   "source": [
    "#check for duplicates\n",
    "tn_movie_budgets.duplicated().sum()"
   ]
  },
  {
   "cell_type": "markdown",
   "metadata": {},
   "source": [
    "There are no duplicates in this dataset too"
   ]
  },
  {
   "cell_type": "code",
   "execution_count": 72,
   "metadata": {},
   "outputs": [
    {
     "data": {
      "text/plain": [
       "Index(['id', 'release_date', 'movie', 'production_budget', 'domestic_gross',\n",
       "       'worldwide_gross'],\n",
       "      dtype='object')"
      ]
     },
     "execution_count": 72,
     "metadata": {},
     "output_type": "execute_result"
    }
   ],
   "source": [
    "tn_movie_budgets.columns"
   ]
  },
  {
   "cell_type": "markdown",
   "metadata": {},
   "source": [
    "#### 6. Box Office Movies Gross dataset"
   ]
  },
  {
   "cell_type": "code",
   "execution_count": 73,
   "metadata": {},
   "outputs": [
    {
     "data": {
      "text/plain": [
       "title                0\n",
       "studio               5\n",
       "domestic_gross      28\n",
       "foreign_gross     1350\n",
       "year                 0\n",
       "dtype: int64"
      ]
     },
     "execution_count": 73,
     "metadata": {},
     "output_type": "execute_result"
    }
   ],
   "source": [
    "#Check for missing values\n",
    "bom_movie_gross.isna().sum()"
   ]
  },
  {
   "cell_type": "code",
   "execution_count": 74,
   "metadata": {},
   "outputs": [
    {
     "name": "stdout",
     "output_type": "stream",
     "text": [
      "Occurrences of 'N/A':\n",
      "title             0\n",
      "studio            0\n",
      "domestic_gross    0\n",
      "foreign_gross     0\n",
      "year              0\n",
      "dtype: int64\n",
      "Occurrences of 'Unknown':\n",
      "title             1\n",
      "studio            0\n",
      "domestic_gross    0\n",
      "foreign_gross     0\n",
      "year              0\n",
      "dtype: int64\n",
      "Occurrences of 'null':\n",
      "title             0\n",
      "studio            0\n",
      "domestic_gross    0\n",
      "foreign_gross     0\n",
      "year              0\n",
      "dtype: int64\n",
      "Occurrences of '':\n",
      "title             0\n",
      "studio            0\n",
      "domestic_gross    0\n",
      "foreign_gross     0\n",
      "year              0\n",
      "dtype: int64\n",
      "Occurrences of 'Null':\n",
      "title             0\n",
      "studio            0\n",
      "domestic_gross    0\n",
      "foreign_gross     0\n",
      "year              0\n",
      "dtype: int64\n"
     ]
    }
   ],
   "source": [
    "#Check for missing values\n",
    "for x in missing:\n",
    "    print(f\"Occurrences of '{x}':\")\n",
    "    print((bom_movie_gross == x).sum())"
   ]
  },
  {
   "cell_type": "code",
   "execution_count": 75,
   "metadata": {},
   "outputs": [
    {
     "data": {
      "text/plain": [
       "title                0\n",
       "studio               5\n",
       "domestic_gross      28\n",
       "foreign_gross     1350\n",
       "year                 0\n",
       "dtype: int64"
      ]
     },
     "execution_count": 75,
     "metadata": {},
     "output_type": "execute_result"
    }
   ],
   "source": [
    "#Check for missing values\n",
    "bom_movie_gross.isnull().sum()"
   ]
  },
  {
   "cell_type": "code",
   "execution_count": 76,
   "metadata": {},
   "outputs": [
    {
     "data": {
      "text/plain": [
       "0"
      ]
     },
     "execution_count": 76,
     "metadata": {},
     "output_type": "execute_result"
    }
   ],
   "source": [
    "#check for duplicates\n",
    "bom_movie_gross.duplicated().sum()"
   ]
  },
  {
   "cell_type": "markdown",
   "metadata": {},
   "source": [
    "This dataset does not have duplicate and missing values"
   ]
  },
  {
   "cell_type": "markdown",
   "metadata": {},
   "source": [
    "# Joining the datasets"
   ]
  },
  {
   "cell_type": "markdown",
   "metadata": {},
   "source": [
    "#### 1. Box office Movie Gross dataset and The Numbers Movie Budgets"
   ]
  },
  {
   "cell_type": "markdown",
   "metadata": {},
   "source": [
    "We are going to merge the above 2 datasets and clean further"
   ]
  },
  {
   "cell_type": "code",
   "execution_count": 77,
   "metadata": {},
   "outputs": [
    {
     "name": "stdout",
     "output_type": "stream",
     "text": [
      "Index(['id', 'release_date', 'movie', 'production_budget', 'domestic_gross',\n",
      "       'worldwide_gross'],\n",
      "      dtype='object')\n",
      "Index(['title', 'studio', 'domestic_gross', 'foreign_gross', 'year'], dtype='object')\n"
     ]
    }
   ],
   "source": [
    "# Check columns in tn_movie_budgets\n",
    "print(tn_movie_budgets.columns)\n",
    "\n",
    "# Check columns in bom_movie_gross\n",
    "print(bom_movie_gross.columns)"
   ]
  },
  {
   "cell_type": "markdown",
   "metadata": {},
   "source": [
    "The columns title and movie can be used for joinig the 2 datasets.       \n",
    "We can first rename the 'movie' column in The Numbers Movie dataset "
   ]
  },
  {
   "cell_type": "code",
   "execution_count": 78,
   "metadata": {},
   "outputs": [],
   "source": [
    "#rename 'movie' column to 'title'\n",
    "tn_movie_budgets = tn_movie_budgets.rename(columns={'movie': 'title'})"
   ]
  },
  {
   "cell_type": "code",
   "execution_count": 79,
   "metadata": {},
   "outputs": [],
   "source": [
    "#remove irrelevant characters to help allow for easier analysis\n",
    "tn_movie_budgets[['domestic_gross', 'production_budget', 'worldwide_gross']] = tn_movie_budgets[['domestic_gross', 'production_budget', 'worldwide_gross']].replace({'\\$': '', ',': ''}, regex = True)"
   ]
  },
  {
   "cell_type": "markdown",
   "metadata": {},
   "source": [
    "We can now merge the two datasets"
   ]
  },
  {
   "cell_type": "code",
   "execution_count": 80,
   "metadata": {},
   "outputs": [
    {
     "data": {
      "text/html": [
       "<div>\n",
       "<style scoped>\n",
       "    .dataframe tbody tr th:only-of-type {\n",
       "        vertical-align: middle;\n",
       "    }\n",
       "\n",
       "    .dataframe tbody tr th {\n",
       "        vertical-align: top;\n",
       "    }\n",
       "\n",
       "    .dataframe thead th {\n",
       "        text-align: right;\n",
       "    }\n",
       "</style>\n",
       "<table border=\"1\" class=\"dataframe\">\n",
       "  <thead>\n",
       "    <tr style=\"text-align: right;\">\n",
       "      <th></th>\n",
       "      <th>id</th>\n",
       "      <th>release_date</th>\n",
       "      <th>title</th>\n",
       "      <th>production_budget</th>\n",
       "      <th>domestic_gross</th>\n",
       "      <th>worldwide_gross</th>\n",
       "      <th>title</th>\n",
       "      <th>studio</th>\n",
       "      <th>domestic_gross</th>\n",
       "      <th>foreign_gross</th>\n",
       "      <th>year</th>\n",
       "    </tr>\n",
       "  </thead>\n",
       "  <tbody>\n",
       "    <tr>\n",
       "      <th>0</th>\n",
       "      <td>1</td>\n",
       "      <td>Dec 18, 2009</td>\n",
       "      <td>avatar</td>\n",
       "      <td>425000000</td>\n",
       "      <td>760507625</td>\n",
       "      <td>2776345279</td>\n",
       "      <td>None</td>\n",
       "      <td>None</td>\n",
       "      <td>NaN</td>\n",
       "      <td>None</td>\n",
       "      <td>NaN</td>\n",
       "    </tr>\n",
       "    <tr>\n",
       "      <th>1</th>\n",
       "      <td>2</td>\n",
       "      <td>May 20, 2011</td>\n",
       "      <td>pirates of the caribbean: on stranger tides</td>\n",
       "      <td>410600000</td>\n",
       "      <td>241063875</td>\n",
       "      <td>1045663875</td>\n",
       "      <td>pirates of the caribbean: on stranger tides</td>\n",
       "      <td>BV</td>\n",
       "      <td>241100000.0</td>\n",
       "      <td>804600000</td>\n",
       "      <td>2011.0</td>\n",
       "    </tr>\n",
       "    <tr>\n",
       "      <th>2</th>\n",
       "      <td>3</td>\n",
       "      <td>Jun 7, 2019</td>\n",
       "      <td>dark phoenix</td>\n",
       "      <td>350000000</td>\n",
       "      <td>42762350</td>\n",
       "      <td>149762350</td>\n",
       "      <td>None</td>\n",
       "      <td>None</td>\n",
       "      <td>NaN</td>\n",
       "      <td>None</td>\n",
       "      <td>NaN</td>\n",
       "    </tr>\n",
       "    <tr>\n",
       "      <th>3</th>\n",
       "      <td>4</td>\n",
       "      <td>May 1, 2015</td>\n",
       "      <td>avengers: age of ultron</td>\n",
       "      <td>330600000</td>\n",
       "      <td>459005868</td>\n",
       "      <td>1403013963</td>\n",
       "      <td>avengers: age of ultron</td>\n",
       "      <td>BV</td>\n",
       "      <td>459000000.0</td>\n",
       "      <td>946400000</td>\n",
       "      <td>2015.0</td>\n",
       "    </tr>\n",
       "    <tr>\n",
       "      <th>4</th>\n",
       "      <td>5</td>\n",
       "      <td>Dec 15, 2017</td>\n",
       "      <td>star wars ep. viii: the last jedi</td>\n",
       "      <td>317000000</td>\n",
       "      <td>620181382</td>\n",
       "      <td>1316721747</td>\n",
       "      <td>None</td>\n",
       "      <td>None</td>\n",
       "      <td>NaN</td>\n",
       "      <td>None</td>\n",
       "      <td>NaN</td>\n",
       "    </tr>\n",
       "    <tr>\n",
       "      <th>...</th>\n",
       "      <td>...</td>\n",
       "      <td>...</td>\n",
       "      <td>...</td>\n",
       "      <td>...</td>\n",
       "      <td>...</td>\n",
       "      <td>...</td>\n",
       "      <td>...</td>\n",
       "      <td>...</td>\n",
       "      <td>...</td>\n",
       "      <td>...</td>\n",
       "      <td>...</td>\n",
       "    </tr>\n",
       "    <tr>\n",
       "      <th>5777</th>\n",
       "      <td>78</td>\n",
       "      <td>Dec 31, 2018</td>\n",
       "      <td>red 11</td>\n",
       "      <td>7000</td>\n",
       "      <td>0</td>\n",
       "      <td>0</td>\n",
       "      <td>None</td>\n",
       "      <td>None</td>\n",
       "      <td>NaN</td>\n",
       "      <td>None</td>\n",
       "      <td>NaN</td>\n",
       "    </tr>\n",
       "    <tr>\n",
       "      <th>5778</th>\n",
       "      <td>79</td>\n",
       "      <td>Apr 2, 1999</td>\n",
       "      <td>following</td>\n",
       "      <td>6000</td>\n",
       "      <td>48482</td>\n",
       "      <td>240495</td>\n",
       "      <td>None</td>\n",
       "      <td>None</td>\n",
       "      <td>NaN</td>\n",
       "      <td>None</td>\n",
       "      <td>NaN</td>\n",
       "    </tr>\n",
       "    <tr>\n",
       "      <th>5779</th>\n",
       "      <td>80</td>\n",
       "      <td>Jul 13, 2005</td>\n",
       "      <td>return to the land of wonders</td>\n",
       "      <td>5000</td>\n",
       "      <td>1338</td>\n",
       "      <td>1338</td>\n",
       "      <td>None</td>\n",
       "      <td>None</td>\n",
       "      <td>NaN</td>\n",
       "      <td>None</td>\n",
       "      <td>NaN</td>\n",
       "    </tr>\n",
       "    <tr>\n",
       "      <th>5780</th>\n",
       "      <td>81</td>\n",
       "      <td>Sep 29, 2015</td>\n",
       "      <td>a plague so pleasant</td>\n",
       "      <td>1400</td>\n",
       "      <td>0</td>\n",
       "      <td>0</td>\n",
       "      <td>None</td>\n",
       "      <td>None</td>\n",
       "      <td>NaN</td>\n",
       "      <td>None</td>\n",
       "      <td>NaN</td>\n",
       "    </tr>\n",
       "    <tr>\n",
       "      <th>5781</th>\n",
       "      <td>82</td>\n",
       "      <td>Aug 5, 2005</td>\n",
       "      <td>my date with drew</td>\n",
       "      <td>1100</td>\n",
       "      <td>181041</td>\n",
       "      <td>181041</td>\n",
       "      <td>None</td>\n",
       "      <td>None</td>\n",
       "      <td>NaN</td>\n",
       "      <td>None</td>\n",
       "      <td>NaN</td>\n",
       "    </tr>\n",
       "  </tbody>\n",
       "</table>\n",
       "<p>5782 rows × 11 columns</p>\n",
       "</div>"
      ],
      "text/plain": [
       "      id  release_date                                        title  \\\n",
       "0      1  Dec 18, 2009                                       avatar   \n",
       "1      2  May 20, 2011  pirates of the caribbean: on stranger tides   \n",
       "2      3   Jun 7, 2019                                 dark phoenix   \n",
       "3      4   May 1, 2015                      avengers: age of ultron   \n",
       "4      5  Dec 15, 2017            star wars ep. viii: the last jedi   \n",
       "...   ..           ...                                          ...   \n",
       "5777  78  Dec 31, 2018                                       red 11   \n",
       "5778  79   Apr 2, 1999                                    following   \n",
       "5779  80  Jul 13, 2005                return to the land of wonders   \n",
       "5780  81  Sep 29, 2015                         a plague so pleasant   \n",
       "5781  82   Aug 5, 2005                            my date with drew   \n",
       "\n",
       "     production_budget  domestic_gross worldwide_gross  \\\n",
       "0            425000000       760507625      2776345279   \n",
       "1            410600000       241063875      1045663875   \n",
       "2            350000000        42762350       149762350   \n",
       "3            330600000       459005868      1403013963   \n",
       "4            317000000       620181382      1316721747   \n",
       "...                ...             ...             ...   \n",
       "5777              7000               0               0   \n",
       "5778              6000           48482          240495   \n",
       "5779              5000            1338            1338   \n",
       "5780              1400               0               0   \n",
       "5781              1100          181041          181041   \n",
       "\n",
       "                                            title studio  domestic_gross  \\\n",
       "0                                            None   None             NaN   \n",
       "1     pirates of the caribbean: on stranger tides     BV     241100000.0   \n",
       "2                                            None   None             NaN   \n",
       "3                         avengers: age of ultron     BV     459000000.0   \n",
       "4                                            None   None             NaN   \n",
       "...                                           ...    ...             ...   \n",
       "5777                                         None   None             NaN   \n",
       "5778                                         None   None             NaN   \n",
       "5779                                         None   None             NaN   \n",
       "5780                                         None   None             NaN   \n",
       "5781                                         None   None             NaN   \n",
       "\n",
       "     foreign_gross    year  \n",
       "0             None     NaN  \n",
       "1        804600000  2011.0  \n",
       "2             None     NaN  \n",
       "3        946400000  2015.0  \n",
       "4             None     NaN  \n",
       "...            ...     ...  \n",
       "5777          None     NaN  \n",
       "5778          None     NaN  \n",
       "5779          None     NaN  \n",
       "5780          None     NaN  \n",
       "5781          None     NaN  \n",
       "\n",
       "[5782 rows x 11 columns]"
      ]
     },
     "execution_count": 80,
     "metadata": {},
     "output_type": "execute_result"
    }
   ],
   "source": [
    "#Create uniformity in the two columns\n",
    "# Clean columns to remove spaces and convert to lowercase\n",
    "tn_movie_budgets['title'] = tn_movie_budgets['title'].str.strip().str.lower()\n",
    "bom_movie_gross['title'] = bom_movie_gross['title'].str.strip().str.lower()\n",
    "\n",
    "# Create a temporary SQlite database\n",
    "conn = sqlite3.connect(':memory:')\n",
    "\n",
    "# Load the cleaned DataFrames into SQLite\n",
    "#index = false ensures index is not being written as a column\n",
    "#if_exists replaces any tables with the same names\n",
    "tn_movie_budgets.to_sql('tn_movie_budgets', conn, index = False, if_exists = 'replace')\n",
    "bom_movie_gross.to_sql('bom_movie_gross', conn, index = False, if_exists = 'replace')\n",
    "\n",
    "#SQL join query1\n",
    "query1 = \"\"\"\n",
    "SELECT a.*, b.*\n",
    "FROM tn_movie_budgets a\n",
    "LEFT JOIN bom_movie_gross b\n",
    "ON a.title = b.title\n",
    "\n",
    "\"\"\"\n",
    "\n",
    "# Execute the query1 and load the result into a DataFrame\n",
    "merged1 = pd.read_sql_query(query1, conn)\n",
    "\n",
    "# Close the connection\n",
    "conn.close()\n",
    "\n",
    "# Display the merged dataset\n",
    "merged1"
   ]
  },
  {
   "cell_type": "markdown",
   "metadata": {},
   "source": [
    "#### Clean the merged dataset"
   ]
  },
  {
   "cell_type": "code",
   "execution_count": 81,
   "metadata": {},
   "outputs": [
    {
     "data": {
      "text/plain": [
       "id                      0\n",
       "release_date            0\n",
       "title                   0\n",
       "production_budget       0\n",
       "domestic_gross          0\n",
       "worldwide_gross         0\n",
       "title                4495\n",
       "studio               4496\n",
       "domestic_gross       4497\n",
       "foreign_gross        4662\n",
       "year                 4495\n",
       "dtype: int64"
      ]
     },
     "execution_count": 81,
     "metadata": {},
     "output_type": "execute_result"
    }
   ],
   "source": [
    "merged1.isna().sum()"
   ]
  },
  {
   "cell_type": "code",
   "execution_count": 82,
   "metadata": {},
   "outputs": [
    {
     "name": "stdout",
     "output_type": "stream",
     "text": [
      "id                   0\n",
      "release_date         0\n",
      "title                0\n",
      "production_budget    0\n",
      "domestic_gross       0\n",
      "worldwide_gross      0\n",
      "title                0\n",
      "studio               0\n",
      "domestic_gross       0\n",
      "foreign_gross        0\n",
      "year                 0\n",
      "dtype: int64\n"
     ]
    }
   ],
   "source": [
    "#Drop missing values\n",
    "merged1.dropna(inplace = True)\n",
    "\n",
    "#confirm changes\n",
    "print(merged1.isna().sum())"
   ]
  },
  {
   "cell_type": "code",
   "execution_count": 83,
   "metadata": {},
   "outputs": [
    {
     "data": {
      "text/plain": [
       "0"
      ]
     },
     "execution_count": 83,
     "metadata": {},
     "output_type": "execute_result"
    }
   ],
   "source": [
    "merged1.duplicated().sum()"
   ]
  },
  {
   "cell_type": "markdown",
   "metadata": {},
   "source": [
    "We do not have ant duplicate values"
   ]
  },
  {
   "cell_type": "markdown",
   "metadata": {},
   "source": [
    "#### 2. Rotten Tomatoes Movies Info and Rotten Tomatoes Reviews dataset"
   ]
  },
  {
   "cell_type": "code",
   "execution_count": 84,
   "metadata": {},
   "outputs": [
    {
     "data": {
      "text/plain": [
       "0          1\n",
       "1          3\n",
       "2          5\n",
       "3          6\n",
       "4          7\n",
       "        ... \n",
       "1555    1996\n",
       "1556    1997\n",
       "1557    1998\n",
       "1558    1999\n",
       "1559    2000\n",
       "Name: id, Length: 1560, dtype: int64"
      ]
     },
     "execution_count": 84,
     "metadata": {},
     "output_type": "execute_result"
    }
   ],
   "source": [
    "rotten_tomatoes_movie_info['id']"
   ]
  },
  {
   "cell_type": "code",
   "execution_count": 85,
   "metadata": {},
   "outputs": [
    {
     "data": {
      "text/plain": [
       "0           3\n",
       "1           3\n",
       "2           3\n",
       "3           3\n",
       "4           3\n",
       "         ... \n",
       "54427    2000\n",
       "54428    2000\n",
       "54429    2000\n",
       "54430    2000\n",
       "54431    2000\n",
       "Name: id, Length: 54423, dtype: int64"
      ]
     },
     "execution_count": 85,
     "metadata": {},
     "output_type": "execute_result"
    }
   ],
   "source": [
    "rotten_tomatoes_reviews['id']"
   ]
  },
  {
   "cell_type": "code",
   "execution_count": 86,
   "metadata": {},
   "outputs": [
    {
     "data": {
      "text/html": [
       "<div>\n",
       "<style scoped>\n",
       "    .dataframe tbody tr th:only-of-type {\n",
       "        vertical-align: middle;\n",
       "    }\n",
       "\n",
       "    .dataframe tbody tr th {\n",
       "        vertical-align: top;\n",
       "    }\n",
       "\n",
       "    .dataframe thead th {\n",
       "        text-align: right;\n",
       "    }\n",
       "</style>\n",
       "<table border=\"1\" class=\"dataframe\">\n",
       "  <thead>\n",
       "    <tr style=\"text-align: right;\">\n",
       "      <th></th>\n",
       "      <th>id</th>\n",
       "      <th>synopsis</th>\n",
       "      <th>rating</th>\n",
       "      <th>genre</th>\n",
       "      <th>director</th>\n",
       "      <th>writer</th>\n",
       "      <th>theater_date</th>\n",
       "      <th>dvd_date</th>\n",
       "      <th>currency</th>\n",
       "      <th>box_office</th>\n",
       "      <th>runtime</th>\n",
       "      <th>studio</th>\n",
       "      <th>id</th>\n",
       "      <th>review</th>\n",
       "      <th>rating</th>\n",
       "      <th>fresh</th>\n",
       "      <th>critic</th>\n",
       "      <th>top_critic</th>\n",
       "      <th>publisher</th>\n",
       "      <th>date</th>\n",
       "    </tr>\n",
       "  </thead>\n",
       "  <tbody>\n",
       "    <tr>\n",
       "      <th>0</th>\n",
       "      <td>1</td>\n",
       "      <td>This gritty, fast-paced, and innovative police...</td>\n",
       "      <td>R</td>\n",
       "      <td>Action and Adventure|Classics|Drama</td>\n",
       "      <td>William Friedkin</td>\n",
       "      <td>Ernest Tidyman</td>\n",
       "      <td>Oct 9, 1971</td>\n",
       "      <td>Sep 25, 2001</td>\n",
       "      <td>USD</td>\n",
       "      <td>0</td>\n",
       "      <td>104 minutes</td>\n",
       "      <td>Unknown</td>\n",
       "      <td>NaN</td>\n",
       "      <td>None</td>\n",
       "      <td>NaN</td>\n",
       "      <td>None</td>\n",
       "      <td>None</td>\n",
       "      <td>NaN</td>\n",
       "      <td>None</td>\n",
       "      <td>None</td>\n",
       "    </tr>\n",
       "    <tr>\n",
       "      <th>1</th>\n",
       "      <td>3</td>\n",
       "      <td>New York City, not-too-distant-future: Eric Pa...</td>\n",
       "      <td>R</td>\n",
       "      <td>Drama|Science Fiction and Fantasy</td>\n",
       "      <td>David Cronenberg</td>\n",
       "      <td>David Cronenberg|Don DeLillo</td>\n",
       "      <td>Aug 17, 2012</td>\n",
       "      <td>Jan 1, 2013</td>\n",
       "      <td>USD</td>\n",
       "      <td>600,000</td>\n",
       "      <td>108 minutes</td>\n",
       "      <td>Entertainment One</td>\n",
       "      <td>3.0</td>\n",
       "      <td>... Cronenberg's Cosmopolis expresses somethin...</td>\n",
       "      <td>3.0</td>\n",
       "      <td>fresh</td>\n",
       "      <td>Michelle Orange</td>\n",
       "      <td>0.0</td>\n",
       "      <td>Capital New York</td>\n",
       "      <td>September 11, 2017</td>\n",
       "    </tr>\n",
       "    <tr>\n",
       "      <th>2</th>\n",
       "      <td>3</td>\n",
       "      <td>New York City, not-too-distant-future: Eric Pa...</td>\n",
       "      <td>R</td>\n",
       "      <td>Drama|Science Fiction and Fantasy</td>\n",
       "      <td>David Cronenberg</td>\n",
       "      <td>David Cronenberg|Don DeLillo</td>\n",
       "      <td>Aug 17, 2012</td>\n",
       "      <td>Jan 1, 2013</td>\n",
       "      <td>USD</td>\n",
       "      <td>600,000</td>\n",
       "      <td>108 minutes</td>\n",
       "      <td>Entertainment One</td>\n",
       "      <td>3.0</td>\n",
       "      <td>... a movie about a sentient zombie, trapped i...</td>\n",
       "      <td>3.0</td>\n",
       "      <td>fresh</td>\n",
       "      <td>Philip Martin</td>\n",
       "      <td>0.0</td>\n",
       "      <td>Arkansas Democrat-Gazette</td>\n",
       "      <td>September 7, 2012</td>\n",
       "    </tr>\n",
       "    <tr>\n",
       "      <th>3</th>\n",
       "      <td>3</td>\n",
       "      <td>New York City, not-too-distant-future: Eric Pa...</td>\n",
       "      <td>R</td>\n",
       "      <td>Drama|Science Fiction and Fantasy</td>\n",
       "      <td>David Cronenberg</td>\n",
       "      <td>David Cronenberg|Don DeLillo</td>\n",
       "      <td>Aug 17, 2012</td>\n",
       "      <td>Jan 1, 2013</td>\n",
       "      <td>USD</td>\n",
       "      <td>600,000</td>\n",
       "      <td>108 minutes</td>\n",
       "      <td>Entertainment One</td>\n",
       "      <td>3.0</td>\n",
       "      <td>... a perverse twist on neorealism...</td>\n",
       "      <td>3.0</td>\n",
       "      <td>fresh</td>\n",
       "      <td>Unknown</td>\n",
       "      <td>0.0</td>\n",
       "      <td>Cinema Scope</td>\n",
       "      <td>October 12, 2017</td>\n",
       "    </tr>\n",
       "    <tr>\n",
       "      <th>4</th>\n",
       "      <td>3</td>\n",
       "      <td>New York City, not-too-distant-future: Eric Pa...</td>\n",
       "      <td>R</td>\n",
       "      <td>Drama|Science Fiction and Fantasy</td>\n",
       "      <td>David Cronenberg</td>\n",
       "      <td>David Cronenberg|Don DeLillo</td>\n",
       "      <td>Aug 17, 2012</td>\n",
       "      <td>Jan 1, 2013</td>\n",
       "      <td>USD</td>\n",
       "      <td>600,000</td>\n",
       "      <td>108 minutes</td>\n",
       "      <td>Entertainment One</td>\n",
       "      <td>3.0</td>\n",
       "      <td>... life lived in a bubble in financial dealin...</td>\n",
       "      <td>3.0</td>\n",
       "      <td>fresh</td>\n",
       "      <td>Sean Axmaker</td>\n",
       "      <td>0.0</td>\n",
       "      <td>Stream on Demand</td>\n",
       "      <td>January 4, 2018</td>\n",
       "    </tr>\n",
       "    <tr>\n",
       "      <th>...</th>\n",
       "      <td>...</td>\n",
       "      <td>...</td>\n",
       "      <td>...</td>\n",
       "      <td>...</td>\n",
       "      <td>...</td>\n",
       "      <td>...</td>\n",
       "      <td>...</td>\n",
       "      <td>...</td>\n",
       "      <td>...</td>\n",
       "      <td>...</td>\n",
       "      <td>...</td>\n",
       "      <td>...</td>\n",
       "      <td>...</td>\n",
       "      <td>...</td>\n",
       "      <td>...</td>\n",
       "      <td>...</td>\n",
       "      <td>...</td>\n",
       "      <td>...</td>\n",
       "      <td>...</td>\n",
       "      <td>...</td>\n",
       "    </tr>\n",
       "    <tr>\n",
       "      <th>54843</th>\n",
       "      <td>2000</td>\n",
       "      <td>Suspended from the force, Paris cop Hubert is ...</td>\n",
       "      <td>R</td>\n",
       "      <td>Action and Adventure|Art House and Internation...</td>\n",
       "      <td>Unknown</td>\n",
       "      <td>Luc Besson</td>\n",
       "      <td>Sep 27, 2001</td>\n",
       "      <td>Feb 11, 2003</td>\n",
       "      <td>USD</td>\n",
       "      <td>0</td>\n",
       "      <td>94 minutes</td>\n",
       "      <td>Columbia Pictures</td>\n",
       "      <td>2000.0</td>\n",
       "      <td>The movie fails to live up to the sum of its p...</td>\n",
       "      <td>3.0</td>\n",
       "      <td>rotten</td>\n",
       "      <td>Judith Prescott</td>\n",
       "      <td>1.0</td>\n",
       "      <td>Hollywood Reporter</td>\n",
       "      <td>February 5, 2003</td>\n",
       "    </tr>\n",
       "    <tr>\n",
       "      <th>54844</th>\n",
       "      <td>2000</td>\n",
       "      <td>Suspended from the force, Paris cop Hubert is ...</td>\n",
       "      <td>R</td>\n",
       "      <td>Action and Adventure|Art House and Internation...</td>\n",
       "      <td>Unknown</td>\n",
       "      <td>Luc Besson</td>\n",
       "      <td>Sep 27, 2001</td>\n",
       "      <td>Feb 11, 2003</td>\n",
       "      <td>USD</td>\n",
       "      <td>0</td>\n",
       "      <td>94 minutes</td>\n",
       "      <td>Columbia Pictures</td>\n",
       "      <td>2000.0</td>\n",
       "      <td>The real charm of this trifle is the deadpan c...</td>\n",
       "      <td>3.0</td>\n",
       "      <td>fresh</td>\n",
       "      <td>Laura Sinagra</td>\n",
       "      <td>1.0</td>\n",
       "      <td>Village Voice</td>\n",
       "      <td>September 24, 2002</td>\n",
       "    </tr>\n",
       "    <tr>\n",
       "      <th>54845</th>\n",
       "      <td>2000</td>\n",
       "      <td>Suspended from the force, Paris cop Hubert is ...</td>\n",
       "      <td>R</td>\n",
       "      <td>Action and Adventure|Art House and Internation...</td>\n",
       "      <td>Unknown</td>\n",
       "      <td>Luc Besson</td>\n",
       "      <td>Sep 27, 2001</td>\n",
       "      <td>Feb 11, 2003</td>\n",
       "      <td>USD</td>\n",
       "      <td>0</td>\n",
       "      <td>94 minutes</td>\n",
       "      <td>Columbia Pictures</td>\n",
       "      <td>2000.0</td>\n",
       "      <td>The spaniel-eyed Jean Reno infuses Hubert with...</td>\n",
       "      <td>3.0</td>\n",
       "      <td>fresh</td>\n",
       "      <td>Megan Turner</td>\n",
       "      <td>1.0</td>\n",
       "      <td>New York Post</td>\n",
       "      <td>September 27, 2002</td>\n",
       "    </tr>\n",
       "    <tr>\n",
       "      <th>54846</th>\n",
       "      <td>2000</td>\n",
       "      <td>Suspended from the force, Paris cop Hubert is ...</td>\n",
       "      <td>R</td>\n",
       "      <td>Action and Adventure|Art House and Internation...</td>\n",
       "      <td>Unknown</td>\n",
       "      <td>Luc Besson</td>\n",
       "      <td>Sep 27, 2001</td>\n",
       "      <td>Feb 11, 2003</td>\n",
       "      <td>USD</td>\n",
       "      <td>0</td>\n",
       "      <td>94 minutes</td>\n",
       "      <td>Columbia Pictures</td>\n",
       "      <td>2000.0</td>\n",
       "      <td>Wasabi does its job colorfully and entertainin...</td>\n",
       "      <td>3.0</td>\n",
       "      <td>fresh</td>\n",
       "      <td>Sean Axmaker</td>\n",
       "      <td>0.0</td>\n",
       "      <td>Seattle Post-Intelligencer</td>\n",
       "      <td>October 3, 2002</td>\n",
       "    </tr>\n",
       "    <tr>\n",
       "      <th>54847</th>\n",
       "      <td>2000</td>\n",
       "      <td>Suspended from the force, Paris cop Hubert is ...</td>\n",
       "      <td>R</td>\n",
       "      <td>Action and Adventure|Art House and Internation...</td>\n",
       "      <td>Unknown</td>\n",
       "      <td>Luc Besson</td>\n",
       "      <td>Sep 27, 2001</td>\n",
       "      <td>Feb 11, 2003</td>\n",
       "      <td>USD</td>\n",
       "      <td>0</td>\n",
       "      <td>94 minutes</td>\n",
       "      <td>Columbia Pictures</td>\n",
       "      <td>2000.0</td>\n",
       "      <td>Wasabi is one of the best times I've had latel...</td>\n",
       "      <td>3.0</td>\n",
       "      <td>fresh</td>\n",
       "      <td>David Cornelius</td>\n",
       "      <td>0.0</td>\n",
       "      <td>eFilmCritic.com</td>\n",
       "      <td>February 3, 2003</td>\n",
       "    </tr>\n",
       "  </tbody>\n",
       "</table>\n",
       "<p>54848 rows × 20 columns</p>\n",
       "</div>"
      ],
      "text/plain": [
       "         id                                           synopsis  rating  \\\n",
       "0         1  This gritty, fast-paced, and innovative police...       R   \n",
       "1         3  New York City, not-too-distant-future: Eric Pa...       R   \n",
       "2         3  New York City, not-too-distant-future: Eric Pa...       R   \n",
       "3         3  New York City, not-too-distant-future: Eric Pa...       R   \n",
       "4         3  New York City, not-too-distant-future: Eric Pa...       R   \n",
       "...     ...                                                ...     ...   \n",
       "54843  2000  Suspended from the force, Paris cop Hubert is ...       R   \n",
       "54844  2000  Suspended from the force, Paris cop Hubert is ...       R   \n",
       "54845  2000  Suspended from the force, Paris cop Hubert is ...       R   \n",
       "54846  2000  Suspended from the force, Paris cop Hubert is ...       R   \n",
       "54847  2000  Suspended from the force, Paris cop Hubert is ...       R   \n",
       "\n",
       "                                                   genre          director  \\\n",
       "0                    Action and Adventure|Classics|Drama  William Friedkin   \n",
       "1                      Drama|Science Fiction and Fantasy  David Cronenberg   \n",
       "2                      Drama|Science Fiction and Fantasy  David Cronenberg   \n",
       "3                      Drama|Science Fiction and Fantasy  David Cronenberg   \n",
       "4                      Drama|Science Fiction and Fantasy  David Cronenberg   \n",
       "...                                                  ...               ...   \n",
       "54843  Action and Adventure|Art House and Internation...           Unknown   \n",
       "54844  Action and Adventure|Art House and Internation...           Unknown   \n",
       "54845  Action and Adventure|Art House and Internation...           Unknown   \n",
       "54846  Action and Adventure|Art House and Internation...           Unknown   \n",
       "54847  Action and Adventure|Art House and Internation...           Unknown   \n",
       "\n",
       "                             writer  theater_date      dvd_date currency  \\\n",
       "0                    Ernest Tidyman   Oct 9, 1971  Sep 25, 2001      USD   \n",
       "1      David Cronenberg|Don DeLillo  Aug 17, 2012   Jan 1, 2013      USD   \n",
       "2      David Cronenberg|Don DeLillo  Aug 17, 2012   Jan 1, 2013      USD   \n",
       "3      David Cronenberg|Don DeLillo  Aug 17, 2012   Jan 1, 2013      USD   \n",
       "4      David Cronenberg|Don DeLillo  Aug 17, 2012   Jan 1, 2013      USD   \n",
       "...                             ...           ...           ...      ...   \n",
       "54843                    Luc Besson  Sep 27, 2001  Feb 11, 2003      USD   \n",
       "54844                    Luc Besson  Sep 27, 2001  Feb 11, 2003      USD   \n",
       "54845                    Luc Besson  Sep 27, 2001  Feb 11, 2003      USD   \n",
       "54846                    Luc Besson  Sep 27, 2001  Feb 11, 2003      USD   \n",
       "54847                    Luc Besson  Sep 27, 2001  Feb 11, 2003      USD   \n",
       "\n",
       "      box_office      runtime             studio      id  \\\n",
       "0              0  104 minutes            Unknown     NaN   \n",
       "1        600,000  108 minutes  Entertainment One     3.0   \n",
       "2        600,000  108 minutes  Entertainment One     3.0   \n",
       "3        600,000  108 minutes  Entertainment One     3.0   \n",
       "4        600,000  108 minutes  Entertainment One     3.0   \n",
       "...          ...          ...                ...     ...   \n",
       "54843          0   94 minutes  Columbia Pictures  2000.0   \n",
       "54844          0   94 minutes  Columbia Pictures  2000.0   \n",
       "54845          0   94 minutes  Columbia Pictures  2000.0   \n",
       "54846          0   94 minutes  Columbia Pictures  2000.0   \n",
       "54847          0   94 minutes  Columbia Pictures  2000.0   \n",
       "\n",
       "                                                  review  rating   fresh  \\\n",
       "0                                                   None     NaN    None   \n",
       "1      ... Cronenberg's Cosmopolis expresses somethin...     3.0   fresh   \n",
       "2      ... a movie about a sentient zombie, trapped i...     3.0   fresh   \n",
       "3                 ... a perverse twist on neorealism...      3.0   fresh   \n",
       "4      ... life lived in a bubble in financial dealin...     3.0   fresh   \n",
       "...                                                  ...     ...     ...   \n",
       "54843  The movie fails to live up to the sum of its p...     3.0  rotten   \n",
       "54844  The real charm of this trifle is the deadpan c...     3.0   fresh   \n",
       "54845  The spaniel-eyed Jean Reno infuses Hubert with...     3.0   fresh   \n",
       "54846  Wasabi does its job colorfully and entertainin...     3.0   fresh   \n",
       "54847  Wasabi is one of the best times I've had latel...     3.0   fresh   \n",
       "\n",
       "                critic  top_critic                   publisher  \\\n",
       "0                 None         NaN                        None   \n",
       "1      Michelle Orange         0.0            Capital New York   \n",
       "2        Philip Martin         0.0   Arkansas Democrat-Gazette   \n",
       "3              Unknown         0.0                Cinema Scope   \n",
       "4         Sean Axmaker         0.0            Stream on Demand   \n",
       "...                ...         ...                         ...   \n",
       "54843  Judith Prescott         1.0          Hollywood Reporter   \n",
       "54844    Laura Sinagra         1.0               Village Voice   \n",
       "54845     Megan Turner         1.0               New York Post   \n",
       "54846     Sean Axmaker         0.0  Seattle Post-Intelligencer   \n",
       "54847  David Cornelius         0.0             eFilmCritic.com   \n",
       "\n",
       "                     date  \n",
       "0                    None  \n",
       "1      September 11, 2017  \n",
       "2       September 7, 2012  \n",
       "3        October 12, 2017  \n",
       "4         January 4, 2018  \n",
       "...                   ...  \n",
       "54843    February 5, 2003  \n",
       "54844  September 24, 2002  \n",
       "54845  September 27, 2002  \n",
       "54846     October 3, 2002  \n",
       "54847    February 3, 2003  \n",
       "\n",
       "[54848 rows x 20 columns]"
      ]
     },
     "execution_count": 86,
     "metadata": {},
     "output_type": "execute_result"
    }
   ],
   "source": [
    "# Create a temporary SQlite database\n",
    "conn = sqlite3.connect(':memory:')\n",
    "\n",
    "# Load the cleaned DataFrames into SQLite\n",
    "#index = false ensures index is not being written as a column\n",
    "#if_exists replaces any tables with the same names\n",
    "rotten_tomatoes_movie_info.to_sql('rotten_tomatoes_movie_info', conn, index = False, if_exists = 'replace')\n",
    "rotten_tomatoes_reviews.to_sql('rotten_tomatoes_reviews', conn, index = False, if_exists = 'replace')\n",
    "\n",
    "#SQL join query2\n",
    "query2 = \"\"\"\n",
    "SELECT c.*, d.*\n",
    "FROM rotten_tomatoes_movie_info c\n",
    "LEFT JOIN rotten_tomatoes_reviews d\n",
    "ON c.id = d.id\n",
    "\n",
    "\"\"\"\n",
    "\n",
    "# Execute the query2 and load the result into a DataFrame\n",
    "merged2 = pd.read_sql_query(query2, conn)\n",
    "\n",
    "# Close the connection\n",
    "conn.close()\n",
    "\n",
    "# Display the merged dataset\n",
    "merged2"
   ]
  },
  {
   "cell_type": "markdown",
   "metadata": {},
   "source": [
    "#### Clean the second merged dataset"
   ]
  },
  {
   "cell_type": "code",
   "execution_count": 87,
   "metadata": {},
   "outputs": [
    {
     "data": {
      "text/plain": [
       "id                0\n",
       "synopsis          0\n",
       "rating            0\n",
       "genre             0\n",
       "director          0\n",
       "writer            0\n",
       "theater_date      0\n",
       "dvd_date          0\n",
       "currency          0\n",
       "box_office        0\n",
       "runtime           0\n",
       "studio            0\n",
       "id              425\n",
       "review          425\n",
       "rating          425\n",
       "fresh           425\n",
       "critic          425\n",
       "top_critic      425\n",
       "publisher       425\n",
       "date            425\n",
       "dtype: int64"
      ]
     },
     "execution_count": 87,
     "metadata": {},
     "output_type": "execute_result"
    }
   ],
   "source": [
    "merged2.isna().sum()"
   ]
  },
  {
   "cell_type": "code",
   "execution_count": 88,
   "metadata": {},
   "outputs": [
    {
     "name": "stdout",
     "output_type": "stream",
     "text": [
      "id              0\n",
      "synopsis        0\n",
      "rating          0\n",
      "genre           0\n",
      "director        0\n",
      "writer          0\n",
      "theater_date    0\n",
      "dvd_date        0\n",
      "currency        0\n",
      "box_office      0\n",
      "runtime         0\n",
      "studio          0\n",
      "id              0\n",
      "review          0\n",
      "rating          0\n",
      "fresh           0\n",
      "critic          0\n",
      "top_critic      0\n",
      "publisher       0\n",
      "date            0\n",
      "dtype: int64\n"
     ]
    }
   ],
   "source": [
    "#Drop missing values\n",
    "merged2.dropna(inplace = True)\n",
    "\n",
    "#confirm changes\n",
    "print(merged2.isna().sum())"
   ]
  },
  {
   "cell_type": "code",
   "execution_count": 89,
   "metadata": {},
   "outputs": [
    {
     "data": {
      "text/plain": [
       "0"
      ]
     },
     "execution_count": 89,
     "metadata": {},
     "output_type": "execute_result"
    }
   ],
   "source": [
    "merged2.duplicated().sum()"
   ]
  },
  {
   "cell_type": "markdown",
   "metadata": {},
   "source": [
    "We do not have duplicates in the second merged dataframe"
   ]
  },
  {
   "cell_type": "markdown",
   "metadata": {},
   "source": [
    "#### 3.  IMDB dataset and The Movie Data dataset"
   ]
  },
  {
   "cell_type": "code",
   "execution_count": 90,
   "metadata": {},
   "outputs": [
    {
     "data": {
      "text/html": [
       "<div>\n",
       "<style scoped>\n",
       "    .dataframe tbody tr th:only-of-type {\n",
       "        vertical-align: middle;\n",
       "    }\n",
       "\n",
       "    .dataframe tbody tr th {\n",
       "        vertical-align: top;\n",
       "    }\n",
       "\n",
       "    .dataframe thead th {\n",
       "        text-align: right;\n",
       "    }\n",
       "</style>\n",
       "<table border=\"1\" class=\"dataframe\">\n",
       "  <thead>\n",
       "    <tr style=\"text-align: right;\">\n",
       "      <th></th>\n",
       "      <th>movie_id</th>\n",
       "      <th>primary_title</th>\n",
       "      <th>original_title</th>\n",
       "      <th>start_year</th>\n",
       "      <th>runtime_minutes</th>\n",
       "      <th>genres</th>\n",
       "      <th>movie_id</th>\n",
       "      <th>averagerating</th>\n",
       "      <th>numvotes</th>\n",
       "    </tr>\n",
       "  </thead>\n",
       "  <tbody>\n",
       "    <tr>\n",
       "      <th>73851</th>\n",
       "      <td>tt9913084</td>\n",
       "      <td>Diabolik sono io</td>\n",
       "      <td>Diabolik sono io</td>\n",
       "      <td>2019</td>\n",
       "      <td>75.0</td>\n",
       "      <td>Documentary</td>\n",
       "      <td>tt9913084</td>\n",
       "      <td>6.2</td>\n",
       "      <td>6</td>\n",
       "    </tr>\n",
       "    <tr>\n",
       "      <th>73852</th>\n",
       "      <td>tt9914286</td>\n",
       "      <td>Sokagin Çocuklari</td>\n",
       "      <td>Sokagin Çocuklari</td>\n",
       "      <td>2019</td>\n",
       "      <td>98.0</td>\n",
       "      <td>Drama,Family</td>\n",
       "      <td>tt9914286</td>\n",
       "      <td>8.7</td>\n",
       "      <td>136</td>\n",
       "    </tr>\n",
       "    <tr>\n",
       "      <th>73853</th>\n",
       "      <td>tt9914642</td>\n",
       "      <td>Albatross</td>\n",
       "      <td>Albatross</td>\n",
       "      <td>2017</td>\n",
       "      <td>91.0</td>\n",
       "      <td>Documentary</td>\n",
       "      <td>tt9914642</td>\n",
       "      <td>8.5</td>\n",
       "      <td>8</td>\n",
       "    </tr>\n",
       "    <tr>\n",
       "      <th>73854</th>\n",
       "      <td>tt9914942</td>\n",
       "      <td>La vida sense la Sara Amat</td>\n",
       "      <td>La vida sense la Sara Amat</td>\n",
       "      <td>2019</td>\n",
       "      <td>91.0</td>\n",
       "      <td>Unknown</td>\n",
       "      <td>tt9914942</td>\n",
       "      <td>6.6</td>\n",
       "      <td>5</td>\n",
       "    </tr>\n",
       "    <tr>\n",
       "      <th>73855</th>\n",
       "      <td>tt9916160</td>\n",
       "      <td>Drømmeland</td>\n",
       "      <td>Drømmeland</td>\n",
       "      <td>2019</td>\n",
       "      <td>72.0</td>\n",
       "      <td>Documentary</td>\n",
       "      <td>tt9916160</td>\n",
       "      <td>6.5</td>\n",
       "      <td>11</td>\n",
       "    </tr>\n",
       "  </tbody>\n",
       "</table>\n",
       "</div>"
      ],
      "text/plain": [
       "        movie_id               primary_title              original_title  \\\n",
       "73851  tt9913084            Diabolik sono io            Diabolik sono io   \n",
       "73852  tt9914286           Sokagin Çocuklari           Sokagin Çocuklari   \n",
       "73853  tt9914642                   Albatross                   Albatross   \n",
       "73854  tt9914942  La vida sense la Sara Amat  La vida sense la Sara Amat   \n",
       "73855  tt9916160                  Drømmeland                  Drømmeland   \n",
       "\n",
       "       start_year  runtime_minutes        genres   movie_id  averagerating  \\\n",
       "73851        2019             75.0   Documentary  tt9913084            6.2   \n",
       "73852        2019             98.0  Drama,Family  tt9914286            8.7   \n",
       "73853        2017             91.0   Documentary  tt9914642            8.5   \n",
       "73854        2019             91.0       Unknown  tt9914942            6.6   \n",
       "73855        2019             72.0   Documentary  tt9916160            6.5   \n",
       "\n",
       "       numvotes  \n",
       "73851         6  \n",
       "73852       136  \n",
       "73853         8  \n",
       "73854         5  \n",
       "73855        11  "
      ]
     },
     "execution_count": 90,
     "metadata": {},
     "output_type": "execute_result"
    }
   ],
   "source": [
    "#view last few records\n",
    "imdb_data.tail()"
   ]
  },
  {
   "cell_type": "code",
   "execution_count": 91,
   "metadata": {},
   "outputs": [
    {
     "data": {
      "text/plain": [
       "Index(['movie_id', 'primary_title', 'original_title', 'start_year',\n",
       "       'runtime_minutes', 'genres', 'movie_id', 'averagerating', 'numvotes'],\n",
       "      dtype='object')"
      ]
     },
     "execution_count": 91,
     "metadata": {},
     "output_type": "execute_result"
    }
   ],
   "source": [
    "#view columns\n",
    "imdb_data.columns"
   ]
  },
  {
   "cell_type": "code",
   "execution_count": 92,
   "metadata": {},
   "outputs": [
    {
     "data": {
      "text/plain": [
       "array([False, False, False, False, False, False,  True, False, False])"
      ]
     },
     "execution_count": 92,
     "metadata": {},
     "output_type": "execute_result"
    }
   ],
   "source": [
    "#identify if there are any duplicates in the columns\n",
    "imdb_data.columns.duplicated()\n",
    "\n",
    "#value of true indicates the column is a duplicate"
   ]
  },
  {
   "cell_type": "markdown",
   "metadata": {},
   "source": [
    "The column 'movie_id' has been repeated and we need to drop duplicates"
   ]
  },
  {
   "cell_type": "code",
   "execution_count": 93,
   "metadata": {},
   "outputs": [],
   "source": [
    "#remove duplicate columns\n",
    "imdb_data = imdb_data.loc[:,~imdb_data.columns.duplicated()].copy()"
   ]
  },
  {
   "cell_type": "code",
   "execution_count": 94,
   "metadata": {},
   "outputs": [
    {
     "data": {
      "text/plain": [
       "array([False, False, False, False, False, False, False, False])"
      ]
     },
     "execution_count": 94,
     "metadata": {},
     "output_type": "execute_result"
    }
   ],
   "source": [
    "#confirm changes\n",
    "imdb_data.columns.duplicated()"
   ]
  },
  {
   "cell_type": "code",
   "execution_count": 95,
   "metadata": {},
   "outputs": [
    {
     "data": {
      "text/html": [
       "<div>\n",
       "<style scoped>\n",
       "    .dataframe tbody tr th:only-of-type {\n",
       "        vertical-align: middle;\n",
       "    }\n",
       "\n",
       "    .dataframe tbody tr th {\n",
       "        vertical-align: top;\n",
       "    }\n",
       "\n",
       "    .dataframe thead th {\n",
       "        text-align: right;\n",
       "    }\n",
       "</style>\n",
       "<table border=\"1\" class=\"dataframe\">\n",
       "  <thead>\n",
       "    <tr style=\"text-align: right;\">\n",
       "      <th></th>\n",
       "      <th>Unnamed: 0</th>\n",
       "      <th>genre_ids</th>\n",
       "      <th>id</th>\n",
       "      <th>original_language</th>\n",
       "      <th>original_title</th>\n",
       "      <th>popularity</th>\n",
       "      <th>release_date</th>\n",
       "      <th>title</th>\n",
       "      <th>vote_average</th>\n",
       "      <th>vote_count</th>\n",
       "    </tr>\n",
       "  </thead>\n",
       "  <tbody>\n",
       "    <tr>\n",
       "      <th>0</th>\n",
       "      <td>0</td>\n",
       "      <td>[12, 14, 10751]</td>\n",
       "      <td>12444</td>\n",
       "      <td>en</td>\n",
       "      <td>Harry Potter and the Deathly Hallows: Part 1</td>\n",
       "      <td>33.533</td>\n",
       "      <td>2010-11-19</td>\n",
       "      <td>Harry Potter and the Deathly Hallows: Part 1</td>\n",
       "      <td>7.7</td>\n",
       "      <td>10788</td>\n",
       "    </tr>\n",
       "    <tr>\n",
       "      <th>1</th>\n",
       "      <td>1</td>\n",
       "      <td>[14, 12, 16, 10751]</td>\n",
       "      <td>10191</td>\n",
       "      <td>en</td>\n",
       "      <td>How to Train Your Dragon</td>\n",
       "      <td>28.734</td>\n",
       "      <td>2010-03-26</td>\n",
       "      <td>How to Train Your Dragon</td>\n",
       "      <td>7.7</td>\n",
       "      <td>7610</td>\n",
       "    </tr>\n",
       "    <tr>\n",
       "      <th>2</th>\n",
       "      <td>2</td>\n",
       "      <td>[12, 28, 878]</td>\n",
       "      <td>10138</td>\n",
       "      <td>en</td>\n",
       "      <td>Iron Man 2</td>\n",
       "      <td>28.515</td>\n",
       "      <td>2010-05-07</td>\n",
       "      <td>Iron Man 2</td>\n",
       "      <td>6.8</td>\n",
       "      <td>12368</td>\n",
       "    </tr>\n",
       "    <tr>\n",
       "      <th>3</th>\n",
       "      <td>3</td>\n",
       "      <td>[16, 35, 10751]</td>\n",
       "      <td>862</td>\n",
       "      <td>en</td>\n",
       "      <td>Toy Story</td>\n",
       "      <td>28.005</td>\n",
       "      <td>1995-11-22</td>\n",
       "      <td>Toy Story</td>\n",
       "      <td>7.9</td>\n",
       "      <td>10174</td>\n",
       "    </tr>\n",
       "    <tr>\n",
       "      <th>4</th>\n",
       "      <td>4</td>\n",
       "      <td>[28, 878, 12]</td>\n",
       "      <td>27205</td>\n",
       "      <td>en</td>\n",
       "      <td>Inception</td>\n",
       "      <td>27.920</td>\n",
       "      <td>2010-07-16</td>\n",
       "      <td>Inception</td>\n",
       "      <td>8.3</td>\n",
       "      <td>22186</td>\n",
       "    </tr>\n",
       "  </tbody>\n",
       "</table>\n",
       "</div>"
      ],
      "text/plain": [
       "   Unnamed: 0            genre_ids     id original_language  \\\n",
       "0           0      [12, 14, 10751]  12444                en   \n",
       "1           1  [14, 12, 16, 10751]  10191                en   \n",
       "2           2        [12, 28, 878]  10138                en   \n",
       "3           3      [16, 35, 10751]    862                en   \n",
       "4           4        [28, 878, 12]  27205                en   \n",
       "\n",
       "                                 original_title  popularity release_date  \\\n",
       "0  Harry Potter and the Deathly Hallows: Part 1      33.533   2010-11-19   \n",
       "1                      How to Train Your Dragon      28.734   2010-03-26   \n",
       "2                                    Iron Man 2      28.515   2010-05-07   \n",
       "3                                     Toy Story      28.005   1995-11-22   \n",
       "4                                     Inception      27.920   2010-07-16   \n",
       "\n",
       "                                          title  vote_average  vote_count  \n",
       "0  Harry Potter and the Deathly Hallows: Part 1           7.7       10788  \n",
       "1                      How to Train Your Dragon           7.7        7610  \n",
       "2                                    Iron Man 2           6.8       12368  \n",
       "3                                     Toy Story           7.9       10174  \n",
       "4                                     Inception           8.3       22186  "
      ]
     },
     "execution_count": 95,
     "metadata": {},
     "output_type": "execute_result"
    }
   ],
   "source": [
    "the_movie_data.head()"
   ]
  },
  {
   "cell_type": "code",
   "execution_count": 96,
   "metadata": {},
   "outputs": [
    {
     "name": "stderr",
     "output_type": "stream",
     "text": [
      "C:\\Users\\DELL\\anaconda3\\envs\\learn-env\\lib\\site-packages\\pandas\\core\\generic.py:2605: UserWarning: The spaces in these column names will not be changed. In pandas versions < 0.14, spaces were converted to underscores.\n",
      "  sql.to_sql(\n"
     ]
    },
    {
     "data": {
      "text/html": [
       "<div>\n",
       "<style scoped>\n",
       "    .dataframe tbody tr th:only-of-type {\n",
       "        vertical-align: middle;\n",
       "    }\n",
       "\n",
       "    .dataframe tbody tr th {\n",
       "        vertical-align: top;\n",
       "    }\n",
       "\n",
       "    .dataframe thead th {\n",
       "        text-align: right;\n",
       "    }\n",
       "</style>\n",
       "<table border=\"1\" class=\"dataframe\">\n",
       "  <thead>\n",
       "    <tr style=\"text-align: right;\">\n",
       "      <th></th>\n",
       "      <th>movie_id</th>\n",
       "      <th>primary_title</th>\n",
       "      <th>original_title</th>\n",
       "      <th>start_year</th>\n",
       "      <th>runtime_minutes</th>\n",
       "      <th>genres</th>\n",
       "      <th>averagerating</th>\n",
       "      <th>numvotes</th>\n",
       "      <th>Unnamed: 0</th>\n",
       "      <th>genre_ids</th>\n",
       "      <th>id</th>\n",
       "      <th>original_language</th>\n",
       "      <th>original_title</th>\n",
       "      <th>popularity</th>\n",
       "      <th>release_date</th>\n",
       "      <th>title</th>\n",
       "      <th>vote_average</th>\n",
       "      <th>vote_count</th>\n",
       "    </tr>\n",
       "  </thead>\n",
       "  <tbody>\n",
       "    <tr>\n",
       "      <th>0</th>\n",
       "      <td>tt0069049</td>\n",
       "      <td>The Other Side of the Wind</td>\n",
       "      <td>The Other Side of the Wind</td>\n",
       "      <td>2018</td>\n",
       "      <td>122.0</td>\n",
       "      <td>Drama</td>\n",
       "      <td>6.9</td>\n",
       "      <td>4517</td>\n",
       "      <td>24185</td>\n",
       "      <td>[35, 18]</td>\n",
       "      <td>299782</td>\n",
       "      <td>en</td>\n",
       "      <td>The Other Side of the Wind</td>\n",
       "      <td>9.800</td>\n",
       "      <td>2018-11-02</td>\n",
       "      <td>The Other Side of the Wind</td>\n",
       "      <td>7.0</td>\n",
       "      <td>64</td>\n",
       "    </tr>\n",
       "    <tr>\n",
       "      <th>1</th>\n",
       "      <td>tt0112502</td>\n",
       "      <td>Bigfoot</td>\n",
       "      <td>Bigfoot</td>\n",
       "      <td>2017</td>\n",
       "      <td>91.0</td>\n",
       "      <td>Horror,Thriller</td>\n",
       "      <td>4.1</td>\n",
       "      <td>32</td>\n",
       "      <td>5872</td>\n",
       "      <td>[27, 878, 12]</td>\n",
       "      <td>117856</td>\n",
       "      <td>en</td>\n",
       "      <td>Bigfoot</td>\n",
       "      <td>2.813</td>\n",
       "      <td>2012-06-30</td>\n",
       "      <td>Bigfoot</td>\n",
       "      <td>2.9</td>\n",
       "      <td>26</td>\n",
       "    </tr>\n",
       "    <tr>\n",
       "      <th>2</th>\n",
       "      <td>tt0249516</td>\n",
       "      <td>Foodfight!</td>\n",
       "      <td>Foodfight!</td>\n",
       "      <td>2012</td>\n",
       "      <td>91.0</td>\n",
       "      <td>Action,Animation,Comedy</td>\n",
       "      <td>1.9</td>\n",
       "      <td>8248</td>\n",
       "      <td>8456</td>\n",
       "      <td>[16, 28, 35, 10751]</td>\n",
       "      <td>116977</td>\n",
       "      <td>en</td>\n",
       "      <td>Foodfight!</td>\n",
       "      <td>4.705</td>\n",
       "      <td>2013-05-07</td>\n",
       "      <td>Foodfight!</td>\n",
       "      <td>2.1</td>\n",
       "      <td>46</td>\n",
       "    </tr>\n",
       "    <tr>\n",
       "      <th>3</th>\n",
       "      <td>tt0255820</td>\n",
       "      <td>Return to Babylon</td>\n",
       "      <td>Return to Babylon</td>\n",
       "      <td>2013</td>\n",
       "      <td>75.0</td>\n",
       "      <td>Biography,Comedy,Drama</td>\n",
       "      <td>5.9</td>\n",
       "      <td>123</td>\n",
       "      <td>9600</td>\n",
       "      <td>[35, 18]</td>\n",
       "      <td>323498</td>\n",
       "      <td>en</td>\n",
       "      <td>Return to Babylon</td>\n",
       "      <td>0.877</td>\n",
       "      <td>2013-08-11</td>\n",
       "      <td>Return to Babylon</td>\n",
       "      <td>7.0</td>\n",
       "      <td>1</td>\n",
       "    </tr>\n",
       "    <tr>\n",
       "      <th>4</th>\n",
       "      <td>tt0285252</td>\n",
       "      <td>Life's a Beach</td>\n",
       "      <td>Life's a Beach</td>\n",
       "      <td>2012</td>\n",
       "      <td>100.0</td>\n",
       "      <td>Comedy</td>\n",
       "      <td>3.9</td>\n",
       "      <td>219</td>\n",
       "      <td>1243</td>\n",
       "      <td>[35]</td>\n",
       "      <td>112074</td>\n",
       "      <td>en</td>\n",
       "      <td>Life's a Beach</td>\n",
       "      <td>1.206</td>\n",
       "      <td>2010-01-01</td>\n",
       "      <td>Life's a Beach</td>\n",
       "      <td>3.2</td>\n",
       "      <td>3</td>\n",
       "    </tr>\n",
       "    <tr>\n",
       "      <th>...</th>\n",
       "      <td>...</td>\n",
       "      <td>...</td>\n",
       "      <td>...</td>\n",
       "      <td>...</td>\n",
       "      <td>...</td>\n",
       "      <td>...</td>\n",
       "      <td>...</td>\n",
       "      <td>...</td>\n",
       "      <td>...</td>\n",
       "      <td>...</td>\n",
       "      <td>...</td>\n",
       "      <td>...</td>\n",
       "      <td>...</td>\n",
       "      <td>...</td>\n",
       "      <td>...</td>\n",
       "      <td>...</td>\n",
       "      <td>...</td>\n",
       "      <td>...</td>\n",
       "    </tr>\n",
       "    <tr>\n",
       "      <th>17617</th>\n",
       "      <td>tt9899880</td>\n",
       "      <td>Columbus</td>\n",
       "      <td>Columbus</td>\n",
       "      <td>2018</td>\n",
       "      <td>85.0</td>\n",
       "      <td>Comedy</td>\n",
       "      <td>5.8</td>\n",
       "      <td>5</td>\n",
       "      <td>20943</td>\n",
       "      <td>[18]</td>\n",
       "      <td>414453</td>\n",
       "      <td>en</td>\n",
       "      <td>Columbus</td>\n",
       "      <td>8.964</td>\n",
       "      <td>2017-08-04</td>\n",
       "      <td>Columbus</td>\n",
       "      <td>7.3</td>\n",
       "      <td>130</td>\n",
       "    </tr>\n",
       "    <tr>\n",
       "      <th>17618</th>\n",
       "      <td>tt9906218</td>\n",
       "      <td>Unstoppable</td>\n",
       "      <td>Unstoppable</td>\n",
       "      <td>2019</td>\n",
       "      <td>84.0</td>\n",
       "      <td>Documentary</td>\n",
       "      <td>8.1</td>\n",
       "      <td>8</td>\n",
       "      <td>46</td>\n",
       "      <td>[28, 53]</td>\n",
       "      <td>44048</td>\n",
       "      <td>en</td>\n",
       "      <td>Unstoppable</td>\n",
       "      <td>14.010</td>\n",
       "      <td>2010-11-12</td>\n",
       "      <td>Unstoppable</td>\n",
       "      <td>6.4</td>\n",
       "      <td>1913</td>\n",
       "    </tr>\n",
       "    <tr>\n",
       "      <th>17619</th>\n",
       "      <td>tt9906218</td>\n",
       "      <td>Unstoppable</td>\n",
       "      <td>Unstoppable</td>\n",
       "      <td>2019</td>\n",
       "      <td>84.0</td>\n",
       "      <td>Documentary</td>\n",
       "      <td>8.1</td>\n",
       "      <td>8</td>\n",
       "      <td>10970</td>\n",
       "      <td>[99]</td>\n",
       "      <td>217664</td>\n",
       "      <td>en</td>\n",
       "      <td>Unstoppable</td>\n",
       "      <td>0.600</td>\n",
       "      <td>2013-09-24</td>\n",
       "      <td>Unstoppable</td>\n",
       "      <td>1.6</td>\n",
       "      <td>4</td>\n",
       "    </tr>\n",
       "    <tr>\n",
       "      <th>17620</th>\n",
       "      <td>tt9914642</td>\n",
       "      <td>Albatross</td>\n",
       "      <td>Albatross</td>\n",
       "      <td>2017</td>\n",
       "      <td>91.0</td>\n",
       "      <td>Documentary</td>\n",
       "      <td>8.5</td>\n",
       "      <td>8</td>\n",
       "      <td>5611</td>\n",
       "      <td>[18]</td>\n",
       "      <td>72842</td>\n",
       "      <td>en</td>\n",
       "      <td>Albatross</td>\n",
       "      <td>5.624</td>\n",
       "      <td>2012-01-02</td>\n",
       "      <td>Albatross</td>\n",
       "      <td>6.2</td>\n",
       "      <td>48</td>\n",
       "    </tr>\n",
       "    <tr>\n",
       "      <th>17621</th>\n",
       "      <td>tt9914642</td>\n",
       "      <td>Albatross</td>\n",
       "      <td>Albatross</td>\n",
       "      <td>2017</td>\n",
       "      <td>91.0</td>\n",
       "      <td>Documentary</td>\n",
       "      <td>8.5</td>\n",
       "      <td>8</td>\n",
       "      <td>23077</td>\n",
       "      <td>[99]</td>\n",
       "      <td>532558</td>\n",
       "      <td>en</td>\n",
       "      <td>Albatross</td>\n",
       "      <td>0.600</td>\n",
       "      <td>2017-01-01</td>\n",
       "      <td>Albatross</td>\n",
       "      <td>10.0</td>\n",
       "      <td>1</td>\n",
       "    </tr>\n",
       "  </tbody>\n",
       "</table>\n",
       "<p>17622 rows × 18 columns</p>\n",
       "</div>"
      ],
      "text/plain": [
       "        movie_id               primary_title              original_title  \\\n",
       "0      tt0069049  The Other Side of the Wind  The Other Side of the Wind   \n",
       "1      tt0112502                     Bigfoot                     Bigfoot   \n",
       "2      tt0249516                  Foodfight!                  Foodfight!   \n",
       "3      tt0255820           Return to Babylon           Return to Babylon   \n",
       "4      tt0285252              Life's a Beach              Life's a Beach   \n",
       "...          ...                         ...                         ...   \n",
       "17617  tt9899880                    Columbus                    Columbus   \n",
       "17618  tt9906218                 Unstoppable                 Unstoppable   \n",
       "17619  tt9906218                 Unstoppable                 Unstoppable   \n",
       "17620  tt9914642                   Albatross                   Albatross   \n",
       "17621  tt9914642                   Albatross                   Albatross   \n",
       "\n",
       "       start_year  runtime_minutes                   genres  averagerating  \\\n",
       "0            2018            122.0                    Drama            6.9   \n",
       "1            2017             91.0          Horror,Thriller            4.1   \n",
       "2            2012             91.0  Action,Animation,Comedy            1.9   \n",
       "3            2013             75.0   Biography,Comedy,Drama            5.9   \n",
       "4            2012            100.0                   Comedy            3.9   \n",
       "...           ...              ...                      ...            ...   \n",
       "17617        2018             85.0                   Comedy            5.8   \n",
       "17618        2019             84.0              Documentary            8.1   \n",
       "17619        2019             84.0              Documentary            8.1   \n",
       "17620        2017             91.0              Documentary            8.5   \n",
       "17621        2017             91.0              Documentary            8.5   \n",
       "\n",
       "       numvotes  Unnamed: 0            genre_ids      id original_language  \\\n",
       "0          4517       24185             [35, 18]  299782                en   \n",
       "1            32        5872        [27, 878, 12]  117856                en   \n",
       "2          8248        8456  [16, 28, 35, 10751]  116977                en   \n",
       "3           123        9600             [35, 18]  323498                en   \n",
       "4           219        1243                 [35]  112074                en   \n",
       "...         ...         ...                  ...     ...               ...   \n",
       "17617         5       20943                 [18]  414453                en   \n",
       "17618         8          46             [28, 53]   44048                en   \n",
       "17619         8       10970                 [99]  217664                en   \n",
       "17620         8        5611                 [18]   72842                en   \n",
       "17621         8       23077                 [99]  532558                en   \n",
       "\n",
       "                   original_title  popularity release_date  \\\n",
       "0      The Other Side of the Wind       9.800   2018-11-02   \n",
       "1                         Bigfoot       2.813   2012-06-30   \n",
       "2                      Foodfight!       4.705   2013-05-07   \n",
       "3               Return to Babylon       0.877   2013-08-11   \n",
       "4                  Life's a Beach       1.206   2010-01-01   \n",
       "...                           ...         ...          ...   \n",
       "17617                    Columbus       8.964   2017-08-04   \n",
       "17618                 Unstoppable      14.010   2010-11-12   \n",
       "17619                 Unstoppable       0.600   2013-09-24   \n",
       "17620                   Albatross       5.624   2012-01-02   \n",
       "17621                   Albatross       0.600   2017-01-01   \n",
       "\n",
       "                            title  vote_average  vote_count  \n",
       "0      The Other Side of the Wind           7.0          64  \n",
       "1                         Bigfoot           2.9          26  \n",
       "2                      Foodfight!           2.1          46  \n",
       "3               Return to Babylon           7.0           1  \n",
       "4                  Life's a Beach           3.2           3  \n",
       "...                           ...           ...         ...  \n",
       "17617                    Columbus           7.3         130  \n",
       "17618                 Unstoppable           6.4        1913  \n",
       "17619                 Unstoppable           1.6           4  \n",
       "17620                   Albatross           6.2          48  \n",
       "17621                   Albatross          10.0           1  \n",
       "\n",
       "[17622 rows x 18 columns]"
      ]
     },
     "execution_count": 96,
     "metadata": {},
     "output_type": "execute_result"
    }
   ],
   "source": [
    "# Create a temporary SQlite database\n",
    "conn = sqlite3.connect(':memory:')\n",
    "\n",
    "# Load the cleaned DataFrames into SQLite\n",
    "#index = false ensures index is not being written as a column\n",
    "#if_exists replaces any tables with the same names\n",
    "imdb_data.to_sql('imdb_data', conn, index = False, if_exists = 'replace')\n",
    "the_movie_data.to_sql('the_movie_data', conn, index = False, if_exists = 'replace')\n",
    "\n",
    "#SQL join query2\n",
    "query3 = \"\"\"\n",
    "SELECT e.*, f.*\n",
    "FROM imdb_data e\n",
    "JOIN the_movie_data f\n",
    "ON e.original_title = f.original_title\n",
    "\n",
    "\"\"\"\n",
    "\n",
    "# Execute the query2 and load the result into a DataFrame\n",
    "merged3 = pd.read_sql_query(query3, conn)\n",
    "\n",
    "# Close the connection\n",
    "conn.close()\n",
    "\n",
    "# Display the merged dataset\n",
    "merged3"
   ]
  },
  {
   "cell_type": "markdown",
   "metadata": {},
   "source": [
    "#### Clean the third merged dataset"
   ]
  },
  {
   "cell_type": "code",
   "execution_count": 97,
   "metadata": {},
   "outputs": [
    {
     "data": {
      "text/plain": [
       "movie_id             0\n",
       "primary_title        0\n",
       "original_title       0\n",
       "start_year           0\n",
       "runtime_minutes      0\n",
       "genres               0\n",
       "averagerating        0\n",
       "numvotes             0\n",
       "Unnamed: 0           0\n",
       "genre_ids            0\n",
       "id                   0\n",
       "original_language    0\n",
       "original_title       0\n",
       "popularity           0\n",
       "release_date         0\n",
       "title                0\n",
       "vote_average         0\n",
       "vote_count           0\n",
       "dtype: int64"
      ]
     },
     "execution_count": 97,
     "metadata": {},
     "output_type": "execute_result"
    }
   ],
   "source": [
    "merged3.isna().sum()"
   ]
  },
  {
   "cell_type": "markdown",
   "metadata": {},
   "source": [
    "We dont have any missing values"
   ]
  },
  {
   "cell_type": "code",
   "execution_count": 98,
   "metadata": {},
   "outputs": [
    {
     "data": {
      "text/plain": [
       "0"
      ]
     },
     "execution_count": 98,
     "metadata": {},
     "output_type": "execute_result"
    }
   ],
   "source": [
    "merged3.duplicated().sum()"
   ]
  },
  {
   "cell_type": "markdown",
   "metadata": {},
   "source": [
    "We do not have any dulicate values"
   ]
  },
  {
   "cell_type": "markdown",
   "metadata": {},
   "source": [
    "### Data Analysis\n",
    "\n",
    "#### Analysis of merged datasets"
   ]
  },
  {
   "cell_type": "code",
   "execution_count": 99,
   "metadata": {},
   "outputs": [
    {
     "name": "stdout",
     "output_type": "stream",
     "text": [
      "Index(['id', 'release_date', 'title', 'production_budget', 'domestic_gross',\n",
      "       'worldwide_gross', 'title', 'studio', 'domestic_gross', 'foreign_gross',\n",
      "       'year'],\n",
      "      dtype='object')\n",
      "Index(['id', 'synopsis', 'rating', 'genre', 'director', 'writer',\n",
      "       'theater_date', 'dvd_date', 'currency', 'box_office', 'runtime',\n",
      "       'studio', 'id', 'review', 'rating', 'fresh', 'critic', 'top_critic',\n",
      "       'publisher', 'date'],\n",
      "      dtype='object')\n",
      "Index(['movie_id', 'primary_title', 'original_title', 'start_year',\n",
      "       'runtime_minutes', 'genres', 'averagerating', 'numvotes', 'Unnamed: 0',\n",
      "       'genre_ids', 'id', 'original_language', 'original_title', 'popularity',\n",
      "       'release_date', 'title', 'vote_average', 'vote_count'],\n",
      "      dtype='object')\n"
     ]
    }
   ],
   "source": [
    "#merged1 = box office movies gross and the numbers movie budgets\n",
    "print(merged1.columns)\n",
    "\n",
    "#merged2 = rotten tomatoes movie info and rotten tomatoes reviews\n",
    "print(merged2.columns)\n",
    "\n",
    "#merged3 = IMDB an the movie database\n",
    "print(merged3.columns)"
   ]
  },
  {
   "cell_type": "markdown",
   "metadata": {},
   "source": [
    "To analyse our data we will need to answer questions with refence to our business problem  \n",
    "1.Which Genre of movies have the best ratings  \n",
    "Here we can further merge our already merged datasets  \n",
    "We will match based on id  \n",
    "2.What is the box office revenue of different genres  \n",
    "3.When are the different genres released and how do they perfom based on season   \n",
    "   "
   ]
  },
  {
   "cell_type": "code",
   "execution_count": 100,
   "metadata": {},
   "outputs": [
    {
     "name": "stdout",
     "output_type": "stream",
     "text": [
      "[False False False False False False  True False  True False False]\n",
      "[False False False False False False False False False False False False\n",
      "  True False  True False False False False False]\n",
      "[False False False False False False False False False False False False\n",
      "  True False False False False False]\n"
     ]
    }
   ],
   "source": [
    "print(merged1.columns.duplicated())\n",
    "\n",
    "print(merged2.columns.duplicated())\n",
    "\n",
    "print(merged3.columns.duplicated())"
   ]
  },
  {
   "cell_type": "markdown",
   "metadata": {},
   "source": [
    "All Our merged datasets have duplicate values and we can handle all duplicate values"
   ]
  },
  {
   "cell_type": "code",
   "execution_count": 101,
   "metadata": {},
   "outputs": [],
   "source": [
    "merged1 = merged1.loc[:,~merged1.columns.duplicated()].copy()\n",
    "merged2 = merged2.loc[:,~merged2.columns.duplicated()].copy()\n",
    "merged3 = merged3.loc[:,~merged3.columns.duplicated()].copy()"
   ]
  },
  {
   "cell_type": "code",
   "execution_count": 102,
   "metadata": {},
   "outputs": [
    {
     "name": "stdout",
     "output_type": "stream",
     "text": [
      "[False False False False False False False False False]\n",
      "[False False False False False False False False False False False False\n",
      " False False False False False False]\n",
      "[False False False False False False False False False False False False\n",
      " False False False False False]\n"
     ]
    }
   ],
   "source": [
    "#confirm changes\n",
    "print(merged1.columns.duplicated())\n",
    "\n",
    "print(merged2.columns.duplicated())\n",
    "\n",
    "print(merged3.columns.duplicated())"
   ]
  },
  {
   "cell_type": "markdown",
   "metadata": {},
   "source": [
    "###  1.Which genres are performing well at the box office."
   ]
  },
  {
   "cell_type": "markdown",
   "metadata": {},
   "source": [
    "#### Performace based on genre and worldwide gross"
   ]
  },
  {
   "cell_type": "code",
   "execution_count": 103,
   "metadata": {},
   "outputs": [],
   "source": [
    "#merge based on id\n",
    "genre_best_gross = pd.merge(merged1, merged2, on = 'id')"
   ]
  },
  {
   "cell_type": "code",
   "execution_count": 104,
   "metadata": {},
   "outputs": [
    {
     "data": {
      "text/plain": [
       "id                   0\n",
       "release_date         0\n",
       "title                0\n",
       "production_budget    0\n",
       "domestic_gross       0\n",
       "worldwide_gross      0\n",
       "studio_x             0\n",
       "foreign_gross        0\n",
       "year                 0\n",
       "synopsis             0\n",
       "rating               0\n",
       "genre                0\n",
       "director             0\n",
       "writer               0\n",
       "theater_date         0\n",
       "dvd_date             0\n",
       "currency             0\n",
       "box_office           0\n",
       "runtime              0\n",
       "studio_y             0\n",
       "review               0\n",
       "fresh                0\n",
       "critic               0\n",
       "top_critic           0\n",
       "publisher            0\n",
       "date                 0\n",
       "dtype: int64"
      ]
     },
     "execution_count": 104,
     "metadata": {},
     "output_type": "execute_result"
    }
   ],
   "source": [
    "genre_best_gross.isna().sum()"
   ]
  },
  {
   "cell_type": "code",
   "execution_count": 105,
   "metadata": {},
   "outputs": [
    {
     "data": {
      "text/plain": [
       "22"
      ]
     },
     "execution_count": 105,
     "metadata": {},
     "output_type": "execute_result"
    }
   ],
   "source": [
    "genre_best_gross.duplicated().sum()"
   ]
  },
  {
   "cell_type": "code",
   "execution_count": 106,
   "metadata": {},
   "outputs": [],
   "source": [
    "#drop duplicates\n",
    "genre_best_gross.drop_duplicates(inplace=True)"
   ]
  },
  {
   "cell_type": "code",
   "execution_count": 107,
   "metadata": {},
   "outputs": [],
   "source": [
    "genre_best_gross['worldwide_gross'] = pd.to_numeric(genre_best_gross['worldwide_gross'], errors = 'coerce')"
   ]
  },
  {
   "cell_type": "code",
   "execution_count": 108,
   "metadata": {},
   "outputs": [
    {
     "data": {
      "text/html": [
       "<div>\n",
       "<style scoped>\n",
       "    .dataframe tbody tr th:only-of-type {\n",
       "        vertical-align: middle;\n",
       "    }\n",
       "\n",
       "    .dataframe tbody tr th {\n",
       "        vertical-align: top;\n",
       "    }\n",
       "\n",
       "    .dataframe thead th {\n",
       "        text-align: right;\n",
       "    }\n",
       "</style>\n",
       "<table border=\"1\" class=\"dataframe\">\n",
       "  <thead>\n",
       "    <tr style=\"text-align: right;\">\n",
       "      <th></th>\n",
       "      <th>genre</th>\n",
       "      <th>worldwide_gross</th>\n",
       "    </tr>\n",
       "  </thead>\n",
       "  <tbody>\n",
       "    <tr>\n",
       "      <th>27</th>\n",
       "      <td>Comedy|Musical and Performing Arts</td>\n",
       "      <td>167479741755</td>\n",
       "    </tr>\n",
       "    <tr>\n",
       "      <th>24</th>\n",
       "      <td>Comedy|Drama|Romance</td>\n",
       "      <td>175709503368</td>\n",
       "    </tr>\n",
       "    <tr>\n",
       "      <th>36</th>\n",
       "      <td>Drama|Sports and Fitness</td>\n",
       "      <td>189837684375</td>\n",
       "    </tr>\n",
       "    <tr>\n",
       "      <th>39</th>\n",
       "      <td>Unknown</td>\n",
       "      <td>243584882616</td>\n",
       "    </tr>\n",
       "    <tr>\n",
       "      <th>13</th>\n",
       "      <td>Art House and International|Comedy|Drama|Music...</td>\n",
       "      <td>280874444200</td>\n",
       "    </tr>\n",
       "    <tr>\n",
       "      <th>29</th>\n",
       "      <td>Comedy|Romance</td>\n",
       "      <td>334695431181</td>\n",
       "    </tr>\n",
       "    <tr>\n",
       "      <th>9</th>\n",
       "      <td>Action and Adventure|Mystery and Suspense</td>\n",
       "      <td>387179350320</td>\n",
       "    </tr>\n",
       "    <tr>\n",
       "      <th>23</th>\n",
       "      <td>Comedy|Drama</td>\n",
       "      <td>741196880346</td>\n",
       "    </tr>\n",
       "    <tr>\n",
       "      <th>22</th>\n",
       "      <td>Comedy</td>\n",
       "      <td>865479560559</td>\n",
       "    </tr>\n",
       "    <tr>\n",
       "      <th>31</th>\n",
       "      <td>Drama</td>\n",
       "      <td>1172533187376</td>\n",
       "    </tr>\n",
       "  </tbody>\n",
       "</table>\n",
       "</div>"
      ],
      "text/plain": [
       "                                                genre  worldwide_gross\n",
       "27                 Comedy|Musical and Performing Arts     167479741755\n",
       "24                               Comedy|Drama|Romance     175709503368\n",
       "36                           Drama|Sports and Fitness     189837684375\n",
       "39                                            Unknown     243584882616\n",
       "13  Art House and International|Comedy|Drama|Music...     280874444200\n",
       "29                                     Comedy|Romance     334695431181\n",
       "9           Action and Adventure|Mystery and Suspense     387179350320\n",
       "23                                       Comedy|Drama     741196880346\n",
       "22                                             Comedy     865479560559\n",
       "31                                              Drama    1172533187376"
      ]
     },
     "execution_count": 108,
     "metadata": {},
     "output_type": "execute_result"
    }
   ],
   "source": [
    "successful_genre = genre_best_gross.groupby('genre')['worldwide_gross'].sum().reset_index()\n",
    "sorted_successful_genre = successful_genre.sort_values(by = 'worldwide_gross', ascending = True)\n",
    "\n",
    "top_10_most_successful_genres = sorted_successful_genre.tail(10)\n",
    "top_10_most_successful_genres"
   ]
  },
  {
   "cell_type": "code",
   "execution_count": 109,
   "metadata": {},
   "outputs": [
    {
     "data": {
      "image/png": "[encoded data removed]",
      "text/plain": [
       "<Figure size 720x432 with 1 Axes>"
      ]
     },
     "metadata": {
      "needs_background": "light"
     },
     "output_type": "display_data"
    }
   ],
   "source": [
    "plt.figure(figsize=(10, 6))\n",
    "plt.barh(top_10_most_successful_genres['genre'], top_10_most_successful_genres['worldwide_gross'])\n",
    "\n",
    "plt.ylabel('Genres')\n",
    "plt.xlabel('Worlwide Gross')\n",
    "plt.title('Top 10 Genres with highest world wide gross')\n",
    "\n",
    "plt.show()"
   ]
  },
  {
   "cell_type": "markdown",
   "metadata": {},
   "source": [
    "#### Save cleaned data as an excel file\n"
   ]
  },
  {
   "cell_type": "code",
   "execution_count": 110,
   "metadata": {
    "scrolled": true
   },
   "outputs": [],
   "source": [
    "# Save the top ten genres data to an Excel file\n",
    "top_10_most_successful_genres.to_excel('top_10_most_successful_genres.xlsx', index=False)"
   ]
  },
  {
   "cell_type": "markdown",
   "metadata": {},
   "source": [
    "######  Findings\n",
    "From our visualization Drama is the most successfull genre of film with the highest worldwide gross.  \n",
    "It is followed by Comedy and Comedy|Drama genres which are the second highest respectively.  \n",
    "Comedy|Musical and Performing Arts is the least of the top ten genres that are performing well"
   ]
  },
  {
   "cell_type": "markdown",
   "metadata": {},
   "source": [
    "We dont have duplicate or missing values\n"
   ]
  },
  {
   "cell_type": "markdown",
   "metadata": {},
   "source": [
    "### 2. What is the financial success of different films"
   ]
  },
  {
   "cell_type": "markdown",
   "metadata": {},
   "source": [
    "We are going to analyse the relationship between the production budget and world gross of different films."
   ]
  },
  {
   "cell_type": "markdown",
   "metadata": {},
   "source": [
    "We merge our first merged dataset(BOM gross and The NUmbers Movie budgets).\n",
    "This was already done previously and stored in the dataframe 'genre_best_gross'."
   ]
  },
  {
   "cell_type": "code",
   "execution_count": 111,
   "metadata": {},
   "outputs": [
    {
     "data": {
      "text/plain": [
       "Index(['id', 'release_date', 'title', 'production_budget', 'domestic_gross',\n",
       "       'worldwide_gross', 'studio_x', 'foreign_gross', 'year', 'synopsis',\n",
       "       'rating', 'genre', 'director', 'writer', 'theater_date', 'dvd_date',\n",
       "       'currency', 'box_office', 'runtime', 'studio_y', 'review', 'fresh',\n",
       "       'critic', 'top_critic', 'publisher', 'date'],\n",
       "      dtype='object')"
      ]
     },
     "execution_count": 111,
     "metadata": {},
     "output_type": "execute_result"
    }
   ],
   "source": [
    "#call already merged dataset and view columns\n",
    "genre_best_gross.columns"
   ]
  },
  {
   "cell_type": "markdown",
   "metadata": {},
   "source": [
    "We can use the production budget column and worldwide gross columns to carry out ot analysis."
   ]
  },
  {
   "cell_type": "code",
   "execution_count": 112,
   "metadata": {},
   "outputs": [
    {
     "data": {
      "text/plain": [
       "0.7993105356567419"
      ]
     },
     "execution_count": 112,
     "metadata": {},
     "output_type": "execute_result"
    }
   ],
   "source": [
    "genre_best_gross['production_budget'] = pd.to_numeric(genre_best_gross['production_budget'], errors = 'coerce')\n",
    "\n",
    "genre_best_gross['production_budget'].corr(genre_best_gross['worldwide_gross'])"
   ]
  },
  {
   "cell_type": "code",
   "execution_count": 113,
   "metadata": {},
   "outputs": [
    {
     "data": {
      "image/png": "[encoded data removed]",
      "text/plain": [
       "<Figure size 720x432 with 1 Axes>"
      ]
     },
     "metadata": {
      "needs_background": "light"
     },
     "output_type": "display_data"
    },
    {
     "name": "stdout",
     "output_type": "stream",
     "text": [
      "Correlation between Production Budget and Worldwide Gross: 0.80\n"
     ]
    }
   ],
   "source": [
    "# Scatter Plot for Production Budget vs. Worldwide Gross\n",
    "plt.figure(figsize=(10, 6))\n",
    "sns.scatterplot(data = genre_best_gross, x='production_budget', y='worldwide_gross')\n",
    "plt.xlabel('Production Budget')\n",
    "plt.ylabel('Worldwide Gross')\n",
    "plt.ylim(10**2, 10**10)\n",
    "plt.title('Scatter Plot of Production Budget vs. Worldwide Gross')\n",
    "\n",
    "# Setting logarithmic scale for better visibility\n",
    "plt.xscale('log') \n",
    "plt.yscale('log')\n",
    "plt.show()\n",
    "\n",
    "# Calculating the correlation between production budget and worldwide gross\n",
    "correlation = genre_best_gross[['production_budget', 'worldwide_gross']].corr().iloc[0, 1]\n",
    "print(f'Correlation between Production Budget and Worldwide Gross: {correlation:.2f}')"
   ]
  },
  {
   "cell_type": "code",
   "execution_count": 114,
   "metadata": {},
   "outputs": [],
   "source": [
    "# save the dataset to a csv file\n",
    "genre_best_gross[['worldwide_gross', 'production_budget']].to_csv('correlation: production budget and worldwide gross', index = False)"
   ]
  },
  {
   "cell_type": "markdown",
   "metadata": {},
   "source": [
    "##### Findings\n",
    "A correlation coefficient of 0.80 suggests a stong positive linear relationship between production_budget and the  worldwide_gross.\n",
    "This suggests that movies with higher repoduction costs tend to have higher worldwide revenues.  \n",
    "It is a strong positive relationship however it does not guarantee that a higher production budget will result in \n",
    "higher worldwide costs"
   ]
  },
  {
   "cell_type": "markdown",
   "metadata": {},
   "source": [
    "### 3.What is the critical reception and rating of different genres\n",
    "We can then compare genres and average rating from the third merged dataset(IMDB and IMDB datasets)"
   ]
  },
  {
   "cell_type": "code",
   "execution_count": 115,
   "metadata": {},
   "outputs": [
    {
     "data": {
      "text/plain": [
       "genres\n",
       "Documentary,Family,Romance       9.70\n",
       "Documentary,News,Reality-TV      8.80\n",
       "Family,Romance                   8.70\n",
       "Mystery,News,Thriller            8.40\n",
       "Action,Sport                     8.40\n",
       "Biography,Family,History         8.30\n",
       "Animation,Documentary,Family     8.30\n",
       "Adventure,Romance,Sci-Fi         8.30\n",
       "Documentary,Drama,Thriller       8.25\n",
       "Animation,Documentary,Mystery    8.20\n",
       "Name: averagerating, dtype: float64"
      ]
     },
     "execution_count": 115,
     "metadata": {},
     "output_type": "execute_result"
    }
   ],
   "source": [
    "# Group by 'genres' and calculate the mean of 'avg_rating' for each genre\n",
    "highly_rated_genres = merged3.groupby('genres')['averagerating'].mean()\n",
    "\n",
    "# Sort genres by average rating in descending order and select the top 10\n",
    "top_ten_highly_rated_genres = highly_rated_genres.sort_values(ascending=False).head(10)\n",
    "\n",
    "# Display the result\n",
    "top_ten_highly_rated_genres"
   ]
  },
  {
   "cell_type": "code",
   "execution_count": 116,
   "metadata": {},
   "outputs": [
    {
     "data": {
      "image/png": "[encoded data removed]",
      "text/plain": [
       "<Figure size 720x432 with 2 Axes>"
      ]
     },
     "metadata": {
      "needs_background": "light"
     },
     "output_type": "display_data"
    }
   ],
   "source": [
    "# Plotting a heatmap of the top 10 highly rated genres\n",
    "plt.figure(figsize=(10, 6))\n",
    "sns.heatmap(top_ten_highly_rated_genres.to_frame(), annot=True, cmap='YlOrBr', cbar_kws={'label': 'Average Rating'})\n",
    "plt.title('Top 10 Highest Rated Genres')\n",
    "plt.xlabel('Average Rating')\n",
    "plt.ylabel('Genres')\n",
    "plt.show()"
   ]
  },
  {
   "cell_type": "code",
   "execution_count": 117,
   "metadata": {},
   "outputs": [],
   "source": [
    "# save the data into a csv file\n",
    "top_ten_highly_rated_genres.to_csv('top_ten_highly_rated_genres', index = False)"
   ]
  },
  {
   "cell_type": "markdown",
   "metadata": {},
   "source": [
    "##### Findings\n",
    "This analysis shows that Documentary, Family, Romance is the highest-rated genre with an average rating of 9.7. \n",
    "This indicates they prefer heartfelt genres like documentaries, family, and romance.\n",
    "Average ratings of news and reality TV indicate they appreciate real insights from news and reality TV.  \n",
    "For excitement and stimulation, audiences seek out the thrill of mystery, action, and sports which have an average rating of 8.4"
   ]
  },
  {
   "cell_type": "markdown",
   "metadata": {},
   "source": [
    "### 4.When do movie releases perfom best?\n",
    "Releases can also be analysed to check their performance based on a monthly basis."
   ]
  },
  {
   "cell_type": "markdown",
   "metadata": {},
   "source": [
    "#### Monthly trend\n",
    "The monthly trend for average worldwide gross across the year can be plotted for analysis."
   ]
  },
  {
   "cell_type": "code",
   "execution_count": 118,
   "metadata": {},
   "outputs": [
    {
     "data": {
      "text/plain": [
       "Index(['id', 'release_date', 'title', 'production_budget', 'domestic_gross',\n",
       "       'worldwide_gross', 'studio_x', 'foreign_gross', 'year', 'synopsis',\n",
       "       'rating', 'genre', 'director', 'writer', 'theater_date', 'dvd_date',\n",
       "       'currency', 'box_office', 'runtime', 'studio_y', 'review', 'fresh',\n",
       "       'critic', 'top_critic', 'publisher', 'date'],\n",
       "      dtype='object')"
      ]
     },
     "execution_count": 118,
     "metadata": {},
     "output_type": "execute_result"
    }
   ],
   "source": [
    "genre_best_gross.columns"
   ]
  },
  {
   "cell_type": "code",
   "execution_count": 119,
   "metadata": {},
   "outputs": [
    {
     "data": {
      "image/png": "[encoded data removed]",
      "text/plain": [
       "<Figure size 864x576 with 1 Axes>"
      ]
     },
     "metadata": {
      "needs_background": "light"
     },
     "output_type": "display_data"
    }
   ],
   "source": [
    "# Convert to numeric, forcing errors to NaN\n",
    "genre_best_gross['worldwide_gross'] = pd.to_numeric(genre_best_gross['worldwide_gross'], errors='coerce')\n",
    "\n",
    "genre_best_gross['release_date'] = pd.to_datetime(genre_best_gross['release_date'], errors='coerce')\n",
    "genre_best_gross['month'] = genre_best_gross['release_date'].dt.month\n",
    "\n",
    "# Group by month and calculate the average worldwide_gross for each month\n",
    "monthly_trend = genre_best_gross.groupby('month')['worldwide_gross'].mean().reset_index()\n",
    "\n",
    "# Plot the trend of average worldwide gross across the months\n",
    "fig, ax = plt.subplots(figsize=(12, 8))\n",
    "\n",
    "# Plot the line graph with shading below the line\n",
    "sns.lineplot(x='month', y='worldwide_gross', data = monthly_trend, marker = 'o', color = 'b', ax = ax)\n",
    "ax.fill_between(monthly_trend['month'], monthly_trend['worldwide_gross'], color = 'blue', alpha = 0.3)\n",
    "\n",
    "# Set the y-axis limit to start from the minimum value of worldwide_gross\n",
    "ax.set_ylim(bottom = monthly_trend['worldwide_gross'].min())\n",
    "\n",
    "#plot\n",
    "plt.title('Average Worldwide Gross by Month Across All Years')\n",
    "plt.xlabel('Month')\n",
    "plt.ylabel('Average Worldwide Gross')\n",
    "plt.xticks(ticks=range(1, 13), labels=['Jan', 'Feb', 'Mar', 'Apr', 'May', 'Jun', 'Jul', 'Aug', 'Sep', 'Oct', 'Nov', 'Dec'])\n",
    "plt.grid(True)\n",
    "\n",
    "# Show the plot\n",
    "plt.show()"
   ]
  },
  {
   "cell_type": "markdown",
   "metadata": {},
   "source": [
    "##### Findings\n",
    "It is evident that releases between May and June have the highest average gross indicating that the peak months for movie releases and revenue generation are between May and June\n",
    "Movies release between August and September have the least average gross."
   ]
  },
  {
   "cell_type": "code",
   "execution_count": 120,
   "metadata": {},
   "outputs": [],
   "source": [
    "# save the data into a csv file\n",
    "merged1.to_csv('merged1', index = False)\n",
    "# save the data into a csv file\n",
    "merged2.to_csv('merged2', index = False)\n",
    "# save the data into a csv file\n",
    "merged3.to_csv('merged3', index = False)"
   ]
  },
  {
   "cell_type": "markdown",
   "metadata": {},
   "source": [
    "### Recommendations\n",
    "\n",
    "-Focus on producing drama films- these films tend to attract a highest grossing genre.\n",
    "\n",
    "-Focus on creating high-quality Documentary, Family, and Romance films, because these genres have the highest audience ratings.\n",
    "\n",
    "-Schedule major film releases during May and June in order to take advantage of the peak movie season which will maximize box office revenue."
   ]
  },
  {
   "cell_type": "markdown",
   "metadata": {},
   "source": [
    "### Conclusion\n",
    "-Drama films are a huge source of revenue.\n",
    "\n",
    "-High quality Documentary, Family and Romance films attract viewers,leading to higher ratings and strong audience loyalty.\n",
    "\n",
    "-Peak release timing leads to higher box office revenue.\n"
   ]
  },
  {
   "cell_type": "code",
   "execution_count": 122,
   "metadata": {},
   "outputs": [],
   "source": [
    "tableau = pd.merge(merged1, merged2,  on = 'id')"
   ]
  },
  {
   "cell_type": "code",
   "execution_count": null,
   "metadata": {},
   "outputs": [],
   "source": []
  },
  {
   "cell_type": "code",
   "execution_count": null,
   "metadata": {},
   "outputs": [],
   "source": []
  },
  {
   "cell_type": "code",
   "execution_count": null,
   "metadata": {},
   "outputs": [],
   "source": []
  },
  {
   "cell_type": "code",
   "execution_count": null,
   "metadata": {},
   "outputs": [],
   "source": []
  },
  {
   "cell_type": "code",
   "execution_count": null,
   "metadata": {},
   "outputs": [],
   "source": []
  },
  {
   "cell_type": "code",
   "execution_count": null,
   "metadata": {},
   "outputs": [],
   "source": []
  },
  {
   "cell_type": "code",
   "execution_count": null,
   "metadata": {},
   "outputs": [],
   "source": []
  },
  {
   "cell_type": "code",
   "execution_count": null,
   "metadata": {},
   "outputs": [],
   "source": []
  }
 ],
 "metadata": {
  "kernelspec": {
   "display_name": "Python 3",
   "language": "python",
   "name": "python3"
  },
  "language_info": {
   "codemirror_mode": {
    "name": "ipython",
    "version": 3
   },
   "file_extension": ".py",
   "mimetype": "text/x-python",
   "name": "python",
   "nbconvert_exporter": "python",
   "pygments_lexer": "ipython3",
   "version": "3.8.5"
  }
 },
 "nbformat": 4,
 "nbformat_minor": 2
}
